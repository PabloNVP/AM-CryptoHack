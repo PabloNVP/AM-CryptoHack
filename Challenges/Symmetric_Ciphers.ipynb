{
  "nbformat": 4,
  "nbformat_minor": 0,
  "metadata": {
    "colab": {
      "provenance": []
    },
    "kernelspec": {
      "name": "python3",
      "display_name": "Python 3"
    },
    "language_info": {
      "name": "python"
    }
  },
  "cells": [
    {
      "cell_type": "markdown",
      "source": [
        "# How AES Works"
      ],
      "metadata": {
        "id": "NJnc6S64IFf7"
      }
    },
    {
      "cell_type": "markdown",
      "source": [
        "## Keyed Permutations"
      ],
      "metadata": {
        "id": "Vgh_qqqEI8Ss"
      }
    },
    {
      "cell_type": "markdown",
      "source": [
        "AES, como todos los buenos cifradores de bloques, realiza una \"permutación con clave\", es decir, asigna cada bloque de entrada posible a un bloque de salida único, con una clave que determina qué permutación se debe realizar.\n",
        "\n",
        "> Un \"bloque\" se refiere simplemente a una cantidad fija de bits o bytes, que pueden representar cualquier tipo de datos. AES procesa un bloque y genera otro bloque. Hablaremos específicamente de la variante de AES que funciona con bloques de 128 bits (16 bytes) y una clave de 128 bits, conocida como AES-128.\n",
        "\n",
        "Usando la misma clave, la permutación puede realizarse a la inversa, mapeando el bloque de salida nuevamente al bloque de entrada original. Es importante que exista una correspondencia uno a uno entre los bloques de entrada y salida, de otra manera no podríamos confiar en el texto cifrado para descifrarlo nuevamente al mismo texto simple con el que comenzamos.\n",
        "\n",
        "¿Cuál es el término matemático para una correspondencia uno a uno?"
      ],
      "metadata": {
        "id": "KubvbkS4I-EG"
      }
    },
    {
      "cell_type": "code",
      "source": [
        "# Una biyección (bijection) es una correspondencia entre dos conjuntos que asigna a cada elemento de un conjunto un único elemento del otro conjunto"
      ],
      "metadata": {
        "id": "01am-a2uJv7M"
      },
      "execution_count": null,
      "outputs": []
    },
    {
      "cell_type": "markdown",
      "source": [
        "## Resisting Bruteforce"
      ],
      "metadata": {
        "id": "f4FZyLus2nlk"
      }
    },
    {
      "cell_type": "markdown",
      "source": [
        "Si un cifrado de bloques es seguro, no debería haber forma de que un atacante distinga la salida de AES de una permutación aleatoria de bits. Además, no debería haber una mejor forma de deshacer la permutación que simplemente forzando bruscamente cada clave posible. Es por eso que los académicos consideran que un cifrado está teóricamente \"roto\" si pueden encontrar un ataque que requiera menos pasos para realizarse que forzar bruscamente la clave, incluso si ese ataque es prácticamente inviable.\n",
        "\n",
        "> ¿Qué tan difícil es forzar un espacio de claves de 128 bits? Alguien calculó que si se utilizara la potencia de toda la red de minería de Bitcoin contra una clave AES-128, se necesitarían cien veces la edad del universo para descifrar la clave.\n",
        "\n",
        "Resulta que existe un ataque contra AES que es mejor que el de fuerza bruta, pero solo un poco: reduce el nivel de seguridad de AES-128 a 126,1 bits y no se ha mejorado en más de 8 años. Dado el gran \"margen de seguridad\" que proporcionan los 128 bits y la falta de mejoras a pesar de un estudio exhaustivo, no se considera un riesgo creíble para la seguridad de AES. Pero sí, en un sentido muy estricto, \"rompe\" AES.\n",
        "\n",
        "Finalmente, si bien las computadoras cuánticas tienen el potencial de romper por completo los criptosistemas de clave pública populares como RSA a través del algoritmo de Shor, se cree que solo reducen a la mitad el nivel de seguridad de los criptosistemas simétricos a través del algoritmo de Grover. Esta es una de las razones por las que la gente recomienda usar AES-256, a pesar de que tiene un rendimiento menor, ya que aún proporcionaría una seguridad de 128 bits muy adecuada en un futuro cuántico.\n",
        "\n",
        "¿Cuál es el nombre del mejor ataque de clave única contra AES?"
      ],
      "metadata": {
        "id": "sqM8MPTU2sWk"
      }
    },
    {
      "cell_type": "code",
      "source": [
        "# El ataque biclique es una variante del método de criptoanálisis de encuentro en el medio (MITM).\n",
        "# Utiliza una estructura biclique para extender el número de rondas que pueden ser atacadas por el ataque MITM."
      ],
      "metadata": {
        "id": "uDzMkkFI5eEv"
      },
      "execution_count": null,
      "outputs": []
    }
  ]
}