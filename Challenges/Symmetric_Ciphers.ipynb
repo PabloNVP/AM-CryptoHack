{
  "nbformat": 4,
  "nbformat_minor": 0,
  "metadata": {
    "colab": {
      "provenance": [],
      "collapsed_sections": [
        "NJnc6S64IFf7",
        "Vgh_qqqEI8Ss",
        "f4FZyLus2nlk",
        "mCjWTNK55v8D",
        "xArMd5S0Eg5f",
        "vUTL221piAHq",
        "OUS-chFJv26N",
        "KOw-XZxkv7EJ",
        "mDlUHjXliQXQ"
      ],
      "gpuType": "V28"
    },
    "kernelspec": {
      "name": "python3",
      "display_name": "Python 3"
    },
    "language_info": {
      "name": "python"
    },
    "accelerator": "TPU"
  },
  "cells": [
    {
      "cell_type": "markdown",
      "source": [
        "# How AES Works"
      ],
      "metadata": {
        "id": "NJnc6S64IFf7"
      }
    },
    {
      "cell_type": "markdown",
      "source": [
        "## Keyed Permutations"
      ],
      "metadata": {
        "id": "Vgh_qqqEI8Ss"
      }
    },
    {
      "cell_type": "markdown",
      "source": [
        "AES, como todos los buenos cifradores de bloques, realiza una \"permutación con clave\", es decir, asigna cada bloque de entrada posible a un bloque de salida único, con una clave que determina qué permutación se debe realizar.\n",
        "\n",
        "> Un \"bloque\" se refiere simplemente a una cantidad fija de bits o bytes, que pueden representar cualquier tipo de datos. AES procesa un bloque y genera otro bloque. Hablaremos específicamente de la variante de AES que funciona con bloques de 128 bits (16 bytes) y una clave de 128 bits, conocida como AES-128.\n",
        "\n",
        "Usando la misma clave, la permutación puede realizarse a la inversa, mapeando el bloque de salida nuevamente al bloque de entrada original. Es importante que exista una correspondencia uno a uno entre los bloques de entrada y salida, de otra manera no podríamos confiar en el texto cifrado para descifrarlo nuevamente al mismo texto simple con el que comenzamos.\n",
        "\n",
        "¿Cuál es el término matemático para una correspondencia uno a uno?"
      ],
      "metadata": {
        "id": "KubvbkS4I-EG"
      }
    },
    {
      "cell_type": "code",
      "source": [
        "# Una biyección (bijection) es una correspondencia entre dos conjuntos que asigna a cada elemento de un conjunto un único elemento del otro conjunto"
      ],
      "metadata": {
        "id": "01am-a2uJv7M"
      },
      "execution_count": null,
      "outputs": []
    },
    {
      "cell_type": "markdown",
      "source": [
        "## Resisting Bruteforce"
      ],
      "metadata": {
        "id": "f4FZyLus2nlk"
      }
    },
    {
      "cell_type": "markdown",
      "source": [
        "Si un cifrado de bloques es seguro, no debería haber forma de que un atacante distinga la salida de AES de una permutación aleatoria de bits. Además, no debería haber una mejor forma de deshacer la permutación que simplemente forzando bruscamente cada clave posible. Es por eso que los académicos consideran que un cifrado está teóricamente \"roto\" si pueden encontrar un ataque que requiera menos pasos para realizarse que forzar bruscamente la clave, incluso si ese ataque es prácticamente inviable.\n",
        "\n",
        "> ¿Qué tan difícil es forzar un espacio de claves de 128 bits? [Alguien calculó](https://crypto.stackexchange.com/questions/48667/how-long-would-it-take-to-brute-force-an-aes-128-key/48669#48669) que si se utilizara la potencia de toda la red de minería de Bitcoin contra una clave AES-128, se necesitarían cien veces la edad del universo para descifrar la clave.\n",
        "\n",
        "Resulta que existe un [ataque](https://en.wikipedia.org/wiki/Biclique_attack) contra AES que es mejor que el de fuerza bruta, pero solo un poco: reduce el nivel de seguridad de AES-128 a 126,1 bits y no se ha mejorado en más de 8 años. Dado el gran \"margen de seguridad\" que proporcionan los 128 bits y la falta de mejoras a pesar de un estudio exhaustivo, no se considera un riesgo creíble para la seguridad de AES. Pero sí, en un sentido muy estricto, \"rompe\" AES.\n",
        "\n",
        "Finalmente, si bien las computadoras cuánticas tienen el potencial de romper por completo los criptosistemas de clave pública populares como RSA a través del [algoritmo de Shor](https://es.wikipedia.org/wiki/Algoritmo_de_Shor), se cree que solo reducen a la mitad el nivel de seguridad de los criptosistemas simétricos a través del [algoritmo de Grover](https://es.wikipedia.org/wiki/Algoritmo_de_Grover). Esta es una de las razones por las que la gente recomienda usar AES-256, a pesar de que tiene un rendimiento menor, ya que aún proporcionaría una seguridad de 128 bits muy adecuada en un futuro cuántico.\n",
        "\n",
        "¿Cuál es el nombre del mejor ataque de clave única contra AES?"
      ],
      "metadata": {
        "id": "sqM8MPTU2sWk"
      }
    },
    {
      "cell_type": "code",
      "source": [
        "# El ataque biclique es una variante del método de criptoanálisis de encuentro en el medio (MITM).\n",
        "# Utiliza una estructura biclique para extender el número de rondas que pueden ser atacadas por el ataque MITM."
      ],
      "metadata": {
        "id": "uDzMkkFI5eEv"
      },
      "execution_count": null,
      "outputs": []
    },
    {
      "cell_type": "markdown",
      "source": [
        "## Structure of AES"
      ],
      "metadata": {
        "id": "mCjWTNK55v8D"
      }
    },
    {
      "cell_type": "markdown",
      "source": [
        "Para lograr una permutación con clave que no sea factible de invertir sin la clave, AES aplica una gran cantidad de operaciones de mezcla ad hoc en la entrada. Esto contrasta marcadamente con los criptosistemas de clave pública como RSA, que se basan en elegantes problemas matemáticos individuales. AES es mucho menos elegante, pero es muy rápido.\n",
        "\n",
        "En un nivel alto, AES-128 comienza con un \"programa de clave\" y luego ejecuta 10 rondas sobre un estado. El estado inicial es simplemente el bloque de texto simple que queremos cifrar, representado como una matriz de bytes de 4x4. A lo largo de las 10 rondas, el estado se modifica repetidamente mediante una serie de transformaciones invertibles.\n",
        "\n",
        "> Cada paso de transformación tiene un propósito definido basado en las propiedades teóricas de los cifrados seguros establecidos por Claude Shannon en la década de 1940. Analizaremos cada uno de ellos más de cerca en los siguientes desafíos.\n",
        "\n",
        "A continuación se muestra una descripción general de las fases del cifrado AES:\n",
        "\n",
        "1. **KeyExpansion o Key Schedule**\n",
        "\n",
        "A partir de la clave de 128 bits, se derivan 11 \"claves de ronda\" independientes de 128 bits: una para utilizar en cada paso AddRoundKey.\n",
        "\n",
        "2. **Adición de clave inicial**\n",
        "\n",
        "AddRoundKey: los bytes de la clave de la primera ronda se combinan con los bytes del estado.\n",
        "\n",
        "3. **Ronda**: esta fase se repite 10 veces, para 9 rondas principales más una \"ronda final\"\n",
        "\n",
        "  a) SubBytes: cada byte del estado se sustituye por un byte diferente según una tabla de búsqueda (\"S-box\").\n",
        "\n",
        "  b) ShiftRows: las últimas tres filas de la matriz de estado se transponen (se desplazan una, dos o tres columnas).\n",
        "\n",
        "  c) MixColumns: se realiza la multiplicación de matrices en las columnas del estado, combinando los cuatro bytes de cada columna. Esto se omite en la ronda final.\n",
        "\n",
        "  d) AddRoundKey: los bytes de la clave de la ronda actual se combinan con los bytes del estado.\n",
        "\n",
        "Se incluye una función `bytes2matrix` para convertir nuestro bloque de texto simple inicial en una matriz de estado. Escriba una función `matrix2bytes` para convertir esa matriz nuevamente en bytes y envíe el texto simple resultante como bandera.\n",
        "\n",
        "Archivos del desafío:\n",
        "- [matrix.py](https://cryptohack.org/static/challenges/matrix_e1b463dddbee6d17959618cf370ff1a5.py)\n",
        "\n",
        "Recursos:\n",
        "- [YouTube: Explicación del cifrado AES Rijndael como una animación Flash](https://www.youtube.com/watch?v=gP4PqVGudtg)"
      ],
      "metadata": {
        "id": "5eM6jg2w56bp"
      }
    },
    {
      "cell_type": "code",
      "source": [
        "def bytes2matrix(text):\n",
        "  \"\"\" Converts a 16-byte array into a 4x4 matrix.  \"\"\"\n",
        "  return [list(text[i:i+4]) for i in range(0, len(text), 4)]\n",
        "\n",
        "def matrix2bytes(matrix):\n",
        "  \"\"\" Converts a 4x4 matrix into a 16-byte array.  \"\"\"\n",
        "  return bytes([i for row in matrix for i in row])\n",
        "\n",
        "matrix = [\n",
        "  [99, 114, 121, 112],\n",
        "  [116, 111, 123, 105],\n",
        "  [110, 109, 97, 116],\n",
        "  [114, 105, 120, 125],\n",
        "]\n",
        "\n",
        "matrix2bytes(matrix)"
      ],
      "metadata": {
        "id": "FEOvdlPv51oT",
        "colab": {
          "base_uri": "https://localhost:8080/"
        },
        "outputId": "0019c8db-28b0-4c00-ce9e-1d1765427b36"
      },
      "execution_count": null,
      "outputs": [
        {
          "output_type": "execute_result",
          "data": {
            "text/plain": [
              "b'crypto{inmatrix}'"
            ]
          },
          "metadata": {},
          "execution_count": 4
        }
      ]
    },
    {
      "cell_type": "markdown",
      "source": [
        "## Round Keys"
      ],
      "metadata": {
        "id": "xArMd5S0Eg5f"
      }
    },
    {
      "cell_type": "markdown",
      "source": [
        "Por ahora, vamos a pasar por alto los detalles más finos de la fase **KeyExpansion**. El punto principal es que toma nuestra clave de 16 bytes y produce 11 matrices de 4x4 llamadas \"claves redondas\" derivadas de nuestra clave inicial. Estas claves redondas permiten que AES aproveche al máximo la clave única que proporcionamos.\n",
        "\n",
        "La fase **inicial de adición de claves**, que es la siguiente, consta de un único paso *AddRoundKey*. El paso *AddRoundKey* es sencillo: realiza una operación XOR entre el estado actual y la clave de ronda actual.\n",
        "\n",
        "*AddRoundKey* también se produce como el paso final de cada ronda. *AddRoundKey* es lo que hace que AES sea una \"permutación con clave\" en lugar de solo una permutación. Es la única parte de AES donde la clave se mezcla con el estado, pero es crucial para determinar la permutación que ocurre.\n",
        "\n",
        "Como has visto en desafíos anteriores, XOR es una operación que se puede invertir fácilmente si conoces la clave, pero es difícil de deshacer si no la conoces. Ahora imagina intentar recuperar texto sin formato que se ha XOR con 11 claves diferentes y que se ha mezclado mucho entre cada operación XOR con una serie de cifras de sustitución y transposición. ¡Eso es más o menos lo que hace AES! Y veremos cuán efectiva es la mezcla en los próximos desafíos.\n",
        "\n",
        "Completa la función `add_round_key`, luego usa la función `matrix2bytes` para obtener tu próxima bandera.\n",
        "\n",
        "Archivos del desafío:\n",
        "* [add_round_key.py](https://cryptohack.org/static/challenges/add_round_key_b67b9a529ae739156107a74b14adde98.py)\n",
        "\n"
      ],
      "metadata": {
        "id": "HrU0eXpTErkT"
      }
    },
    {
      "cell_type": "code",
      "source": [
        "state = [\n",
        "    [206, 243, 61, 34],\n",
        "    [171, 11, 93, 31],\n",
        "    [16, 200, 91, 108],\n",
        "    [150, 3, 194, 51],\n",
        "]\n",
        "\n",
        "round_key = [\n",
        "    [173, 129, 68, 82],\n",
        "    [223, 100, 38, 109],\n",
        "    [32, 189, 53, 8],\n",
        "    [253, 48, 187, 78],\n",
        "]\n",
        "\n",
        "def matrix2bytes(matrix):\n",
        "    \"\"\" Converts a 4x4 matrix into a 16-byte array.  \"\"\"\n",
        "    return bytes([i for row in matrix for i in row])\n",
        "\n",
        "def add_round_key(s, k):\n",
        "    return matrix2bytes([[s[i][j] ^ k[i][j] for j in range(len(s[i]))] for i in range(len(s))])\n",
        "\n",
        "add_round_key(state, round_key)"
      ],
      "metadata": {
        "id": "Fr7tlK8vFvgq"
      },
      "execution_count": null,
      "outputs": []
    },
    {
      "cell_type": "markdown",
      "source": [
        "## Confusion through Substitution"
      ],
      "metadata": {
        "id": "vUTL221piAHq"
      }
    },
    {
      "cell_type": "markdown",
      "source": [
        "El primer paso de cada ronda de AES es SubBytes. Esto implica tomar cada byte de la matriz de estado y sustituirlo por un byte diferente en una tabla de búsqueda preestablecida de 16x16. La tabla de búsqueda se denomina \"caja de sustitución\" o \"caja S\" para abreviar, y puede resultar confusa a primera vista. Vamos a desglosarla.\n",
        "\n",
        "En 1945, el matemático estadounidense Claude Shannon publicó un artículo innovador sobre la teoría de la información, en el que identificaba la \"confusión\" como una propiedad esencial de un cifrado seguro. \"Confusión\" significa que la relación entre el texto cifrado y la clave debe ser lo más compleja posible. Dado solo un texto cifrado, no debería haber forma de saber nada sobre la clave.\n",
        "\n",
        "Si un cifrado tiene poca confusión, es posible expresar una relación entre el texto cifrado, la clave y el texto simple como una función lineal. Por ejemplo, en un cifrado César, `texto cifrado = texto simple + clave`. Esa es una relación obvia, que es fácil de revertir. Las transformaciones lineales más complicadas se pueden resolver utilizando técnicas como la eliminación gaussiana. Incluso los polinomios de bajo grado, por ejemplo, una ecuación como `x^4 + 51x^3 + x`, se pueden resolver de manera eficiente [utilizando métodos algebraicos](https://math.stackexchange.com/a/1078515). Sin embargo, cuanto mayor sea el grado de un polinomio, generalmente más difícil será resolverlo: solo se puede aproximar mediante una cantidad cada vez mayor de funciones lineales.\n",
        "\n",
        "El objetivo principal de la S-box es transformar la entrada de una manera que sea resistente a ser aproximada por funciones lineales. Las S-boxes apuntan a una alta no linealidad y, si bien la de AES no es perfecta, se acerca bastante. La búsqueda rápida en una S-box es un atajo para realizar una función muy no lineal en los bytes de entrada. Esta función implica tomar la inversa modular en el [campo de Galois 2**8](https://www.samiam.org/galois.html) y luego aplicar una transformación afín que se ha modificado para generar la máxima confusión. La forma más simple de expresar la función es mediante el siguiente polinomio de alto grado.\n",
        "\n",
        "Para crear la S-box, se calculó la función sobre todos los valores de entrada desde 0x00 hasta 0xff y las salidas se colocaron en la tabla de búsqueda.\n",
        "\n",
        "Implementar sub_bytes, enviar la matriz de estado a través de la S-box inversa y luego convertirla a bytes para obtener el indicador.\n",
        "\n",
        "Archivos de desafío:\n",
        "- [sbox.py](https://cryptohack.org/static/challenges/sbox_8fc04ffb95faf5a5e6959195d5e2d94e.py)\n"
      ],
      "metadata": {
        "id": "NJRvIMAXiCGK"
      }
    },
    {
      "cell_type": "code",
      "source": [
        "s_box = (\n",
        "    0x63, 0x7C, 0x77, 0x7B, 0xF2, 0x6B, 0x6F, 0xC5, 0x30, 0x01, 0x67, 0x2B, 0xFE, 0xD7, 0xAB, 0x76,\n",
        "    0xCA, 0x82, 0xC9, 0x7D, 0xFA, 0x59, 0x47, 0xF0, 0xAD, 0xD4, 0xA2, 0xAF, 0x9C, 0xA4, 0x72, 0xC0,\n",
        "    0xB7, 0xFD, 0x93, 0x26, 0x36, 0x3F, 0xF7, 0xCC, 0x34, 0xA5, 0xE5, 0xF1, 0x71, 0xD8, 0x31, 0x15,\n",
        "    0x04, 0xC7, 0x23, 0xC3, 0x18, 0x96, 0x05, 0x9A, 0x07, 0x12, 0x80, 0xE2, 0xEB, 0x27, 0xB2, 0x75,\n",
        "    0x09, 0x83, 0x2C, 0x1A, 0x1B, 0x6E, 0x5A, 0xA0, 0x52, 0x3B, 0xD6, 0xB3, 0x29, 0xE3, 0x2F, 0x84,\n",
        "    0x53, 0xD1, 0x00, 0xED, 0x20, 0xFC, 0xB1, 0x5B, 0x6A, 0xCB, 0xBE, 0x39, 0x4A, 0x4C, 0x58, 0xCF,\n",
        "    0xD0, 0xEF, 0xAA, 0xFB, 0x43, 0x4D, 0x33, 0x85, 0x45, 0xF9, 0x02, 0x7F, 0x50, 0x3C, 0x9F, 0xA8,\n",
        "    0x51, 0xA3, 0x40, 0x8F, 0x92, 0x9D, 0x38, 0xF5, 0xBC, 0xB6, 0xDA, 0x21, 0x10, 0xFF, 0xF3, 0xD2,\n",
        "    0xCD, 0x0C, 0x13, 0xEC, 0x5F, 0x97, 0x44, 0x17, 0xC4, 0xA7, 0x7E, 0x3D, 0x64, 0x5D, 0x19, 0x73,\n",
        "    0x60, 0x81, 0x4F, 0xDC, 0x22, 0x2A, 0x90, 0x88, 0x46, 0xEE, 0xB8, 0x14, 0xDE, 0x5E, 0x0B, 0xDB,\n",
        "    0xE0, 0x32, 0x3A, 0x0A, 0x49, 0x06, 0x24, 0x5C, 0xC2, 0xD3, 0xAC, 0x62, 0x91, 0x95, 0xE4, 0x79,\n",
        "    0xE7, 0xC8, 0x37, 0x6D, 0x8D, 0xD5, 0x4E, 0xA9, 0x6C, 0x56, 0xF4, 0xEA, 0x65, 0x7A, 0xAE, 0x08,\n",
        "    0xBA, 0x78, 0x25, 0x2E, 0x1C, 0xA6, 0xB4, 0xC6, 0xE8, 0xDD, 0x74, 0x1F, 0x4B, 0xBD, 0x8B, 0x8A,\n",
        "    0x70, 0x3E, 0xB5, 0x66, 0x48, 0x03, 0xF6, 0x0E, 0x61, 0x35, 0x57, 0xB9, 0x86, 0xC1, 0x1D, 0x9E,\n",
        "    0xE1, 0xF8, 0x98, 0x11, 0x69, 0xD9, 0x8E, 0x94, 0x9B, 0x1E, 0x87, 0xE9, 0xCE, 0x55, 0x28, 0xDF,\n",
        "    0x8C, 0xA1, 0x89, 0x0D, 0xBF, 0xE6, 0x42, 0x68, 0x41, 0x99, 0x2D, 0x0F, 0xB0, 0x54, 0xBB, 0x16,\n",
        ")\n",
        "\n",
        "inv_s_box = (\n",
        "    0x52, 0x09, 0x6A, 0xD5, 0x30, 0x36, 0xA5, 0x38, 0xBF, 0x40, 0xA3, 0x9E, 0x81, 0xF3, 0xD7, 0xFB,\n",
        "    0x7C, 0xE3, 0x39, 0x82, 0x9B, 0x2F, 0xFF, 0x87, 0x34, 0x8E, 0x43, 0x44, 0xC4, 0xDE, 0xE9, 0xCB,\n",
        "    0x54, 0x7B, 0x94, 0x32, 0xA6, 0xC2, 0x23, 0x3D, 0xEE, 0x4C, 0x95, 0x0B, 0x42, 0xFA, 0xC3, 0x4E,\n",
        "    0x08, 0x2E, 0xA1, 0x66, 0x28, 0xD9, 0x24, 0xB2, 0x76, 0x5B, 0xA2, 0x49, 0x6D, 0x8B, 0xD1, 0x25,\n",
        "    0x72, 0xF8, 0xF6, 0x64, 0x86, 0x68, 0x98, 0x16, 0xD4, 0xA4, 0x5C, 0xCC, 0x5D, 0x65, 0xB6, 0x92,\n",
        "    0x6C, 0x70, 0x48, 0x50, 0xFD, 0xED, 0xB9, 0xDA, 0x5E, 0x15, 0x46, 0x57, 0xA7, 0x8D, 0x9D, 0x84,\n",
        "    0x90, 0xD8, 0xAB, 0x00, 0x8C, 0xBC, 0xD3, 0x0A, 0xF7, 0xE4, 0x58, 0x05, 0xB8, 0xB3, 0x45, 0x06,\n",
        "    0xD0, 0x2C, 0x1E, 0x8F, 0xCA, 0x3F, 0x0F, 0x02, 0xC1, 0xAF, 0xBD, 0x03, 0x01, 0x13, 0x8A, 0x6B,\n",
        "    0x3A, 0x91, 0x11, 0x41, 0x4F, 0x67, 0xDC, 0xEA, 0x97, 0xF2, 0xCF, 0xCE, 0xF0, 0xB4, 0xE6, 0x73,\n",
        "    0x96, 0xAC, 0x74, 0x22, 0xE7, 0xAD, 0x35, 0x85, 0xE2, 0xF9, 0x37, 0xE8, 0x1C, 0x75, 0xDF, 0x6E,\n",
        "    0x47, 0xF1, 0x1A, 0x71, 0x1D, 0x29, 0xC5, 0x89, 0x6F, 0xB7, 0x62, 0x0E, 0xAA, 0x18, 0xBE, 0x1B,\n",
        "    0xFC, 0x56, 0x3E, 0x4B, 0xC6, 0xD2, 0x79, 0x20, 0x9A, 0xDB, 0xC0, 0xFE, 0x78, 0xCD, 0x5A, 0xF4,\n",
        "    0x1F, 0xDD, 0xA8, 0x33, 0x88, 0x07, 0xC7, 0x31, 0xB1, 0x12, 0x10, 0x59, 0x27, 0x80, 0xEC, 0x5F,\n",
        "    0x60, 0x51, 0x7F, 0xA9, 0x19, 0xB5, 0x4A, 0x0D, 0x2D, 0xE5, 0x7A, 0x9F, 0x93, 0xC9, 0x9C, 0xEF,\n",
        "    0xA0, 0xE0, 0x3B, 0x4D, 0xAE, 0x2A, 0xF5, 0xB0, 0xC8, 0xEB, 0xBB, 0x3C, 0x83, 0x53, 0x99, 0x61,\n",
        "    0x17, 0x2B, 0x04, 0x7E, 0xBA, 0x77, 0xD6, 0x26, 0xE1, 0x69, 0x14, 0x63, 0x55, 0x21, 0x0C, 0x7D,\n",
        ")\n",
        "\n",
        "state = [\n",
        "    [251, 64, 182, 81],\n",
        "    [146, 168, 33, 80],\n",
        "    [199, 159, 195, 24],\n",
        "    [64, 80, 182, 255],\n",
        "]\n",
        "\n",
        "def inv_sub_bytes(s, sbox=inv_s_box):\n",
        "    return [[sbox[byte] for byte in row] for row in s]\n",
        "\n",
        "def matrix2bytes(matrix):\n",
        "    return ''.join(chr(byte) for row in matrix for byte in row)\n",
        "\n",
        "matrix2bytes(inv_sub_bytes(state, sbox=inv_s_box))"
      ],
      "metadata": {
        "id": "GmPsH8z_jFN_",
        "colab": {
          "base_uri": "https://localhost:8080/",
          "height": 35
        },
        "outputId": "76103032-ca74-44e3-aca3-ea4e9467356a"
      },
      "execution_count": null,
      "outputs": [
        {
          "output_type": "execute_result",
          "data": {
            "text/plain": [
              "'crypto{l1n34rly}'"
            ],
            "application/vnd.google.colaboratory.intrinsic+json": {
              "type": "string"
            }
          },
          "metadata": {},
          "execution_count": 3
        }
      ]
    },
    {
      "cell_type": "markdown",
      "source": [
        "## Diffusion through Permutation"
      ],
      "metadata": {
        "id": "WGFamtPvjwsU"
      }
    },
    {
      "cell_type": "markdown",
      "source": [
        "Hemos visto cómo la sustitución de la caja S genera confusión. La otra propiedad crucial descrita por Shannon es la \"difusión\". Se relaciona con la forma en que cada parte de la entrada de un cifrado debe propagarse a cada parte de la salida.\n",
        "\n",
        "La sustitución por sí sola crea no linealidad, pero no la distribuye por todo el estado. Sin la difusión, el mismo byte en la misma posición recibiría las mismas transformaciones aplicadas en cada ronda. Esto permitiría a los criptoanalistas atacar cada posición de byte en la matriz de estado por separado. Necesitamos alternar las sustituciones mezclando el estado (de manera invertible) de modo que las sustituciones aplicadas en un byte influyan en todos los demás bytes del estado. Cada entrada en la siguiente caja S se convierte entonces en una función de múltiples bytes, lo que significa que con cada ronda la complejidad algebraica del sistema aumenta enormemente.\n",
        "\n",
        "> Una cantidad ideal de difusión hace que un cambio de un bit en el texto simple dé lugar a un cambio en la mitad estadística de los bits del texto cifrado. Este resultado deseable se denomina efecto avalancha.\n",
        "\n",
        "Los pasos ShiftRows y MixColumns se combinan para lograr esto. Trabajan juntos para garantizar que cada byte afecte a todos los demás bytes del estado en solo dos rondas.\n",
        "\n",
        "ShiftRows es la transformación más simple en AES. Mantiene la primera fila de la matriz de estado igual. La segunda fila se desplaza una columna hacia la izquierda, dando vueltas. La tercera fila se desplaza dos columnas, la cuarta fila tres. Wikipedia lo expresa muy bien: \"la importancia de este paso es evitar que las columnas se cifren de forma independiente, en cuyo caso AES degenera en cuatro cifrados de bloque independientes\".\n",
        "\n",
        "> El diagrama (y la especificación AES) muestran la operación ShiftRows en notación de columna principal. Sin embargo, el código de muestra a continuación utiliza la notación de fila principal para la matriz de estado, ya que es más natural en Python. Siempre que se utilice la misma notación cada vez que se accede a la matriz, el resultado final es idéntico. Debido a los patrones de acceso y al comportamiento de la memoria caché, el uso de un tipo de notación puede generar un mejor rendimiento.\n",
        "\n",
        "MixColumns es más complejo. Realiza la multiplicación de matrices en el campo de Galois de Rijndael entre las columnas de la matriz de estado y una matriz preestablecida. Por lo tanto, cada byte de cada columna afecta a todos los bytes de la columna resultante. Los detalles de implementación son matizados; [esta página](https://www.samiam.org/mix-column.html) y [Wikipedia](https://en.wikipedia.org/wiki/Rijndael_MixColumns) hacen un buen trabajo al cubrirlos.\n",
        "\n",
        "Hemos proporcionado el código para ejecutar MixColumns y la operación ShiftRows hacia adelante. Después de implementar `inv_shift_rows`, tome el estado, ejecute `inv_mix_columns` en él, luego `inv_shift_rows`, conviértalo a bytes y tendrá su bandera.\n",
        "\n",
        "Archivos de desafío:\n",
        "- [diffusion.py](https://cryptohack.org/static/challenges/diffusion_ee6215282094b4ae8cd1b20697477712.py)\n",
        "\n"
      ],
      "metadata": {
        "id": "b20BB_rxjxw8"
      }
    },
    {
      "cell_type": "code",
      "source": [
        "def shift_rows(s):\n",
        "  s[0][1], s[1][1], s[2][1], s[3][1] = s[1][1], s[2][1], s[3][1], s[0][1]\n",
        "  s[0][2], s[1][2], s[2][2], s[3][2] = s[2][2], s[3][2], s[0][2], s[1][2]\n",
        "  s[0][3], s[1][3], s[2][3], s[3][3] = s[3][3], s[0][3], s[1][3], s[2][3]\n",
        "\n",
        "def inv_shift_rows(s):\n",
        "  s[1][1], s[2][1], s[3][1], s[0][1] = s[0][1], s[1][1], s[2][1], s[3][1]\n",
        "  s[2][2], s[3][2], s[0][2], s[1][2] = s[0][2], s[1][2], s[2][2], s[3][2]\n",
        "  s[3][3], s[0][3], s[1][3], s[2][3] = s[0][3], s[1][3], s[2][3], s[3][3]\n",
        "\n",
        "# learned from http://cs.ucsb.edu/~koc/cs178/projects/JT/aes.c\n",
        "xtime = lambda a: (((a << 1) ^ 0x1B) & 0xFF) if (a & 0x80) else (a << 1)\n",
        "\n",
        "def mix_single_column(a):\n",
        "    # see Sec 4.1.2 in The Design of Rijndael\n",
        "    t = a[0] ^ a[1] ^ a[2] ^ a[3]\n",
        "    u = a[0]\n",
        "    a[0] ^= t ^ xtime(a[0] ^ a[1])\n",
        "    a[1] ^= t ^ xtime(a[1] ^ a[2])\n",
        "    a[2] ^= t ^ xtime(a[2] ^ a[3])\n",
        "    a[3] ^= t ^ xtime(a[3] ^ u)\n",
        "\n",
        "def mix_columns(s):\n",
        "    for i in range(4):\n",
        "        mix_single_column(s[i])\n",
        "\n",
        "def inv_mix_columns(s):\n",
        "    # see Sec 4.1.3 in The Design of Rijndael\n",
        "    for i in range(4):\n",
        "        u = xtime(xtime(s[i][0] ^ s[i][2]))\n",
        "        v = xtime(xtime(s[i][1] ^ s[i][3]))\n",
        "        s[i][0] ^= u\n",
        "        s[i][1] ^= v\n",
        "        s[i][2] ^= u\n",
        "        s[i][3] ^= v\n",
        "\n",
        "    mix_columns(s)\n",
        "\n",
        "state = [\n",
        "    [108, 106, 71, 86],\n",
        "    [96, 62, 38, 72],\n",
        "    [42, 184, 92, 209],\n",
        "    [94, 79, 8, 54],\n",
        "]\n",
        "\n",
        "inv_mix_columns(state)\n",
        "\n",
        "inv_shift_rows(state)\n",
        "\n",
        "def matrix2bytes(matrix):\n",
        "    return ''.join(chr(byte) for row in matrix for byte in row)\n",
        "\n",
        "matrix2bytes(state)"
      ],
      "metadata": {
        "id": "JbRFukIZkvHm"
      },
      "execution_count": null,
      "outputs": []
    },
    {
      "cell_type": "markdown",
      "source": [
        "## Bringing It All Together"
      ],
      "metadata": {
        "id": "eTrwGsbmWXxT"
      }
    },
    {
      "cell_type": "markdown",
      "source": [
        "Aparte de la fase **KeyExpansion**, hemos esbozado todos los componentes de AES. Hemos mostrado cómo *SubBytes* genera confusión y *ShiftRows* y *MixColumns* generan difusión, y cómo estas dos propiedades trabajan juntas para hacer circular repetidamente transformaciones no lineales por el estado. Por último, AddRoundKey introduce la clave en esta red de sustitución-permutación, lo que convierte el cifrado en una permutación con clave.\n",
        "\n",
        "El descifrado implica realizar los pasos descritos en el desafío \"Estructura de AES\" en sentido inverso, aplicando las operaciones inversas. Tenga en cuenta que KeyExpansion aún debe ejecutarse primero y las claves de redondeo se utilizarán en orden inverso. AddRoundKey y su inversa son idénticas, ya que XOR tiene la propiedad de autoinversión.\n",
        "\n",
        "Hemos proporcionado el código de expansión de clave y el texto cifrado que se ha cifrado correctamente con AES-128. Copia todos los bloques de construcción que has codificado hasta ahora y completa la función de `descifrado` que implementa los pasos que se muestran en el diagrama. El texto sin formato descifrado es el indicador.\n",
        "\n",
        "Sí, puedes hacer trampa en este desafío, pero ¿dónde está la diversión en eso?\n",
        "\n",
        "El código utilizado en estos ejercicios se ha tomado de la implementación súper simple de AES en Python de Bo Zhu, por lo que reproducimos la licencia aquí.\n",
        "\n",
        "Archivos del desafío:\n",
        "- [aes_decrypt.py](https://cryptohack.org/static/challenges/aes_decrypt_f491744105801ec03d6a6f7a0e7f8101.py)\n",
        "- [LICENCIA](https://cryptohack.org/static/challenges/LICENSE_651b0602addd2b4bfa5d69ad7fca2dd5)\n",
        "\n",
        "Recursos:\n",
        "- [Creando tu propia criptografía: Todo lo que necesitas para crear AES desde cero](https://github.com/francisrstokes/githublog/blob/main/2022/6/15/rolling-your-own-crypto-aes.md)"
      ],
      "metadata": {
        "id": "T_iNrZ5dWZDH"
      }
    },
    {
      "cell_type": "code",
      "source": [
        "## CODE"
      ],
      "metadata": {
        "id": "_aI9voMJv0Z2"
      },
      "execution_count": null,
      "outputs": []
    },
    {
      "cell_type": "markdown",
      "source": [
        "# Symmetric Starter"
      ],
      "metadata": {
        "id": "OUS-chFJv26N"
      }
    },
    {
      "cell_type": "markdown",
      "source": [
        "## Modes of Operation Starter"
      ],
      "metadata": {
        "id": "KOw-XZxkv7EJ"
      }
    },
    {
      "cell_type": "markdown",
      "source": [
        "El conjunto anterior de desafíos mostró cómo AES realiza una permutación con clave en un bloque de datos. En la práctica, necesitamos cifrar mensajes mucho más largos que un solo bloque. Un modo de operación describe cómo usar un cifrado como AES en mensajes más largos.\n",
        "\n",
        "Todos los modos tienen serias debilidades cuando se usan incorrectamente. Los desafíos de esta categoría lo llevan a una sección diferente del sitio web donde puede interactuar con las API y explotar esas debilidades. ¡Familiarícese con la interfaz y úsela para obtener su próxima bandera!\n",
        "\n",
        "Juegue en [https://aes.cryptohack.org/block_cipher_starter](https://aes.cryptohack.org/block_cipher_starter)"
      ],
      "metadata": {
        "id": "RdvUH8nAv9p1"
      }
    },
    {
      "cell_type": "code",
      "source": [
        "import requests\n",
        "\n",
        "URL = 'https://aes.cryptohack.org//block_cipher_starter/'\n",
        "\n",
        "response = requests.get(URL + 'encrypt_flag/')\n",
        "\n",
        "if response.status_code == 200:\n",
        "  encrypt_flag = response.json()['ciphertext']\n",
        "\n",
        "response = requests.get(URL + 'decrypt/' + encrypt_flag + '/')\n",
        "\n",
        "if response.status_code == 200:\n",
        "  decrypt_flag = response.json()['plaintext']\n",
        "  flag_str = bytes.fromhex(decrypt_flag)\n",
        "\n",
        "flag_str"
      ],
      "metadata": {
        "id": "DOXmkwqDxSqr"
      },
      "execution_count": null,
      "outputs": []
    },
    {
      "cell_type": "markdown",
      "source": [
        "## Passwords as Keys"
      ],
      "metadata": {
        "id": "mDlUHjXliQXQ"
      }
    },
    {
      "cell_type": "markdown",
      "source": [
        "Es esencial que las claves en los algoritmos de clave simétrica sean bytes aleatorios, en lugar de contraseñas u otros datos predecibles. Los bytes aleatorios se deben generar utilizando un generador de números pseudoaleatorios criptográficamente seguro (CSPRNG). Si las claves son predecibles de alguna manera, entonces el nivel de seguridad del cifrado se reduce y es posible que un atacante que obtenga acceso al texto cifrado pueda descifrarlo.\n",
        "\n",
        "El hecho de que una clave parezca estar formada por bytes aleatorios no significa necesariamente que lo esté. En este caso, la clave se ha derivado de una contraseña simple utilizando una función hash, lo que hace que el texto cifrado sea descifrable.\n",
        "\n",
        "Para este desafío, puede crear secuencias de comandos para sus solicitudes HTTP a los puntos finales o, alternativamente, atacar el texto cifrado sin conexión. ¡Buena suerte!\n",
        "\n",
        "Juega en [https://aes.cryptohack.org/passwords_as_keys](https://aes.cryptohack.org/passwords_as_keys)"
      ],
      "metadata": {
        "id": "L-1q37TZiUNA"
      }
    },
    {
      "cell_type": "code",
      "source": [
        "import requests\n",
        "import hashlib\n",
        "from multiprocessing import Pool\n",
        "\n",
        "URL_WORDS = \"https://gist.githubusercontent.com/wchargin/8927565/raw/d9783627c731268fb2935a731a618aa8e95cf465/words\"\n",
        "URL = \"https://aes.cryptohack.org/passwords_as_keys/\"\n",
        "\n",
        "response = requests.get(URL_WORDS)\n",
        "\n",
        "if response.status_code == 200:\n",
        "  words = [w.strip() for w in response.text.splitlines()]\n",
        "\n",
        "response = requests.get(URL + 'encrypt_flag/')\n",
        "\n",
        "if response.status_code == 200:\n",
        "  flag = response.json()['ciphertext']\n",
        "\n",
        "def check(word):\n",
        "  response = requests.get(URL + 'decrypt/' + flag + \"/\" + hashlib.md5(word.encode()).hexdigest() + '/')\n",
        "\n",
        "  if response.status_code == 200:\n",
        "    flag_decrypt = bytes.fromhex(response.json()['plaintext'])\n",
        "    if(flag_decrypt.startswith(b\"crypto\")):\n",
        "      return flag_decrypt\n",
        "  return None\n",
        "\n",
        "with Pool() as pool:\n",
        "  for result in pool.imap(check, words):\n",
        "    if result:\n",
        "      print(f\"{result}\")"
      ],
      "metadata": {
        "id": "o5ypoTmyi29U"
      },
      "execution_count": null,
      "outputs": []
    },
    {
      "cell_type": "markdown",
      "source": [
        "# Block Ciphers 1"
      ],
      "metadata": {
        "id": "1nJ8FKMtrlpp"
      }
    },
    {
      "cell_type": "markdown",
      "source": [
        "## ECB CBC WTF"
      ],
      "metadata": {
        "id": "Hdh-gKSXroSg"
      }
    },
    {
      "cell_type": "markdown",
      "source": [
        "Aquí puede cifrar en CBC pero solo descifrar en ECB. Eso no debería ser una debilidad porque son modos diferentes... ¿verdad?\n",
        "\n",
        "Play at [https://aes.cryptohack.org/ecbcbcwtf](https://aes.cryptohack.org/ecbcbcwtf)"
      ],
      "metadata": {
        "id": "Bi0jKaUDrs5l"
      }
    },
    {
      "cell_type": "code",
      "source": [
        "import requests\n",
        "\n",
        "URL = 'https://aes.cryptohack.org/ecbcbcwtf/'\n",
        "\n",
        "response = requests.get(URL + 'encrypt_flag/')\n",
        "\n",
        "if response.status_code == 200:\n",
        "  encrypt_flag = response.json()['ciphertext']\n",
        "\n",
        "SIZE = 32\n",
        "\n",
        "iv = encrypt_flag[0:SIZE]\n",
        "c_0 = encrypt_flag[SIZE:SIZE*2]\n",
        "c_1 = encrypt_flag[SIZE*2:SIZE*3]\n",
        "\n",
        "response = requests.get(URL + 'decrypt/' + str(c_0) + '/')\n",
        "\n",
        "if response.status_code == 200:\n",
        "  d_0 = response.json()['plaintext']\n",
        "\n",
        "response = requests.get(URL + 'decrypt/' + str(c_1) + '/')\n",
        "\n",
        "if response.status_code == 200:\n",
        "  d_1 = response.json()['plaintext']\n",
        "\n",
        "for i in range(32):\n",
        "  p_0 = hex(int(d_0, 16) ^ int(iv, 16))\n",
        "  p_1 = hex(int(d_1, 16) ^ int(c_0, 16))\n",
        "\n",
        "bytes.fromhex(p_0[2:]+p_1[2:])"
      ],
      "metadata": {
        "id": "py1-XojZGueL"
      },
      "execution_count": null,
      "outputs": []
    }
  ]
}