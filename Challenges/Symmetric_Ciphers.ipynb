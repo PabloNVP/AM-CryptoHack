{
  "nbformat": 4,
  "nbformat_minor": 0,
  "metadata": {
    "colab": {
      "provenance": []
    },
    "kernelspec": {
      "name": "python3",
      "display_name": "Python 3"
    },
    "language_info": {
      "name": "python"
    }
  },
  "cells": [
    {
      "cell_type": "markdown",
      "source": [
        "# How AES Works"
      ],
      "metadata": {
        "id": "NJnc6S64IFf7"
      }
    },
    {
      "cell_type": "markdown",
      "source": [
        "## Keyed Permutations"
      ],
      "metadata": {
        "id": "Vgh_qqqEI8Ss"
      }
    },
    {
      "cell_type": "markdown",
      "source": [
        "AES, como todos los buenos cifradores de bloques, realiza una \"permutación con clave\", es decir, asigna cada bloque de entrada posible a un bloque de salida único, con una clave que determina qué permutación se debe realizar.\n",
        "\n",
        "> Un \"bloque\" se refiere simplemente a una cantidad fija de bits o bytes, que pueden representar cualquier tipo de datos. AES procesa un bloque y genera otro bloque. Hablaremos específicamente de la variante de AES que funciona con bloques de 128 bits (16 bytes) y una clave de 128 bits, conocida como AES-128.\n",
        "\n",
        "Usando la misma clave, la permutación puede realizarse a la inversa, mapeando el bloque de salida nuevamente al bloque de entrada original. Es importante que exista una correspondencia uno a uno entre los bloques de entrada y salida, de otra manera no podríamos confiar en el texto cifrado para descifrarlo nuevamente al mismo texto simple con el que comenzamos.\n",
        "\n",
        "¿Cuál es el término matemático para una correspondencia uno a uno?"
      ],
      "metadata": {
        "id": "KubvbkS4I-EG"
      }
    },
    {
      "cell_type": "code",
      "source": [
        "# Una biyección (bijection) es una correspondencia entre dos conjuntos que asigna a cada elemento de un conjunto un único elemento del otro conjunto"
      ],
      "metadata": {
        "id": "01am-a2uJv7M"
      },
      "execution_count": null,
      "outputs": []
    }
  ]
}