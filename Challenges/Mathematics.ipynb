{
  "nbformat": 4,
  "nbformat_minor": 0,
  "metadata": {
    "colab": {
      "provenance": []
    },
    "kernelspec": {
      "name": "python3",
      "display_name": "Python 3"
    },
    "language_info": {
      "name": "python"
    }
  },
  "cells": [
    {
      "cell_type": "markdown",
      "source": [
        "# Modular Math"
      ],
      "metadata": {
        "id": "pxdjr9f5OuiT"
      }
    },
    {
      "cell_type": "markdown",
      "source": [
        "## Quadratic Residues"
      ],
      "metadata": {
        "id": "9isGWnchOwiz"
      }
    },
    {
      "cell_type": "markdown",
      "source": [
        "Hemos visto la multiplicación y la división en aritmética modular, pero ¿qué significa tomar la raíz cuadrada módulo de un entero?\n",
        "\n",
        "Para la siguiente discusión, trabajemos módulo `p=29`. Podemos tomar el entero `a=11` y calcular `a^2 = 5 mod 29`.\n",
        "\n",
        "Como `a = 11, a^2 = 5`, decimos que la raíz cuadrada de `5` es `11`.\n",
        "\n",
        "Esto se siente bien, pero ahora pensemos en la raíz cuadrada de `18`. De lo anterior, sabemos que necesitamos encontrar algún entero `a` tal que `a^2=18`\n",
        "\n",
        "Tu primera idea podría ser comenzar con `a = 1` y hacer un bucle hasta `a = p - 1`. En esta discusión, `p` no es demasiado grande y podemos verificar rápidamente todas las opciones.\n",
        "\n",
        "Inténtalo, intenta codificar esto y mira lo que encuentras. Si lo has codificado correctamente, encontrarás que para todo `a ∈ Fp*` nunca encontrarás un `a` tal que `a^2 = 18`.\n",
        "\n",
        "Lo que estamos viendo es que para los elementos de `Fp*`, no todos los elementos tienen una raíz cuadrada. De hecho, lo que encontramos es que para aproximadamente la mitad de los elementos de `Fp*`, no hay raíz cuadrada.\n",
        "\n",
        "> Decimos que un entero `x` es un residuo cuadrático si existe un `a` tal que `a^2 ≡ x mod p`. Si no existe tal solución, entonces el entero es un no residuo cuadrático.\n",
        "\n",
        "En otras palabras, `x` es un residuo cuadrático cuando es posible tomar la raíz cuadrada de `x` módulo un entero `p`.\n",
        "\n",
        "En la lista a continuación hay dos residuos no cuadráticos y un residuo cuadrático.\n",
        "\n",
        "Encuentre el residuo cuadrático y luego calcule su raíz cuadrada. De las dos raíces posibles, envíe la más pequeña como bandera.\n",
        "\n",
        "> Si `a^2 = x` entonces `(-a)^2 = x`. Por lo tanto, si `x` es un residuo cuadrático en algún cuerpo finito, entonces siempre hay dos soluciones para `a`.\n",
        "\n",
        "```\n",
        "p=29 ints=[14,6,11]\n",
        "```"
      ],
      "metadata": {
        "id": "-IMkAVrOO5DH"
      }
    },
    {
      "cell_type": "code",
      "execution_count": 28,
      "metadata": {
        "colab": {
          "base_uri": "https://localhost:8080/"
        },
        "id": "iLxgYbIlOm7D",
        "outputId": "e7baecc4-7aec-49ce-83c3-647e47c606e8"
      },
      "outputs": [
        {
          "output_type": "execute_result",
          "data": {
            "text/plain": [
              "8"
            ]
          },
          "metadata": {},
          "execution_count": 28
        }
      ],
      "source": [
        "ints=[14, 6, 11]\n",
        "p=29\n",
        "\n",
        "def first_qr(p, ints):\n",
        "  for i in range(p-1):\n",
        "    for num in ints:\n",
        "      if (pow(i, 2, p) == num):\n",
        "        return i\n",
        "\n",
        "first_qr(p, ints)"
      ]
    }
  ]
}