{
  "nbformat": 4,
  "nbformat_minor": 0,
  "metadata": {
    "colab": {
      "provenance": [],
      "collapsed_sections": [
        "9isGWnchOwiz",
        "Xn_rMwbf6imr",
        "ZqbdkY2XItox",
        "wo1VVyS6l7It",
        "FFYyZjlZBeMy"
      ],
      "gpuType": "V28"
    },
    "kernelspec": {
      "name": "python3",
      "display_name": "Python 3"
    },
    "language_info": {
      "name": "python"
    },
    "accelerator": "TPU"
  },
  "cells": [
    {
      "cell_type": "markdown",
      "source": [
        "# Modular Math"
      ],
      "metadata": {
        "id": "pxdjr9f5OuiT"
      }
    },
    {
      "cell_type": "markdown",
      "source": [
        "## Quadratic Residues"
      ],
      "metadata": {
        "id": "9isGWnchOwiz"
      }
    },
    {
      "cell_type": "markdown",
      "source": [
        "Hemos visto la multiplicación y la división en aritmética modular, pero ¿qué significa tomar la raíz cuadrada módulo de un entero?\n",
        "\n",
        "Para la siguiente discusión, trabajemos módulo `p=29`. Podemos tomar el entero `a=11` y calcular `a^2 = 5 mod 29`.\n",
        "\n",
        "Como `a = 11, a^2 = 5`, decimos que la raíz cuadrada de `5` es `11`.\n",
        "\n",
        "Esto se siente bien, pero ahora pensemos en la raíz cuadrada de `18`. De lo anterior, sabemos que necesitamos encontrar algún entero `a` tal que `a^2=18`\n",
        "\n",
        "Tu primera idea podría ser comenzar con `a = 1` y hacer un bucle hasta `a = p - 1`. En esta discusión, `p` no es demasiado grande y podemos verificar rápidamente todas las opciones.\n",
        "\n",
        "Inténtalo, intenta codificar esto y mira lo que encuentras. Si lo has codificado correctamente, encontrarás que para todo `a ∈ Fp*` nunca encontrarás un `a` tal que `a^2 = 18`.\n",
        "\n",
        "Lo que estamos viendo es que para los elementos de `Fp*`, no todos los elementos tienen una raíz cuadrada. De hecho, lo que encontramos es que para aproximadamente la mitad de los elementos de `Fp*`, no hay raíz cuadrada.\n",
        "\n",
        "> Decimos que un entero `x` es un residuo cuadrático si existe un `a` tal que `a^2 ≡ x mod p`. Si no existe tal solución, entonces el entero es un no residuo cuadrático.\n",
        "\n",
        "En otras palabras, `x` es un residuo cuadrático cuando es posible tomar la raíz cuadrada de `x` módulo un entero `p`.\n",
        "\n",
        "En la lista a continuación hay dos residuos no cuadráticos y un residuo cuadrático.\n",
        "\n",
        "Encuentre el residuo cuadrático y luego calcule su raíz cuadrada. De las dos raíces posibles, envíe la más pequeña como bandera.\n",
        "\n",
        "> Si `a^2 = x` entonces `(-a)^2 = x`. Por lo tanto, si `x` es un residuo cuadrático en algún cuerpo finito, entonces siempre hay dos soluciones para `a`.\n",
        "\n",
        "```\n",
        "p=29 ints=[14,6,11]\n",
        "```"
      ],
      "metadata": {
        "id": "-IMkAVrOO5DH"
      }
    },
    {
      "cell_type": "code",
      "execution_count": null,
      "metadata": {
        "id": "iLxgYbIlOm7D"
      },
      "outputs": [],
      "source": [
        "ints=[14, 6, 11]\n",
        "p=29\n",
        "\n",
        "def first_qr(p, ints):\n",
        "  for i in range(p-1):\n",
        "    for num in ints:\n",
        "      if (pow(i, 2, p) == num):\n",
        "        return i\n",
        "\n",
        "first_qr(p, ints)"
      ]
    },
    {
      "cell_type": "markdown",
      "source": [
        "## Legendre Symbol"
      ],
      "metadata": {
        "id": "Xn_rMwbf6imr"
      }
    },
    {
      "cell_type": "markdown",
      "source": [
        "En Residuos cuadráticos aprendimos lo que significa sacar la raíz cuadrada módulo de un entero. También vimos que sacar una raíz no siempre es posible.\n",
        "\n",
        "En el caso anterior, cuando `p=29`, incluso el método más simple para calcular la raíz cuadrada era lo suficientemente rápido, pero a medida que `p` se hace más grande, este método se vuelve extremadamente irrazonable.\n",
        "\n",
        "Afortunadamente para nosotros, tenemos una manera de comprobar si un entero es un residuo cuadrático con un solo cálculo gracias a Legendre. A continuación, asumiremos que estamos trabajando módulo de un primo `p`.\n",
        "\n",
        "Antes de analizar el símbolo de Legendre, hagamos un breve desvío para ver una propiedad interesante de los (no) residuos cuadráticos.\n",
        "\n",
        "```\n",
        "Residuo cuadrático * Residuo cuadrático = Residuo cuadrático\n",
        "Residuo cuadrático * No residuo cuadrático = No residuo cuadrático\n",
        "No residuo cuadrático * No residuo cuadrático = Residuo cuadrático\n",
        "```\n",
        "\n",
        "> ¿Quieres una forma sencilla de recordar esto? Reemplaza \"residuo cuadrático\" por `+1` y \"sin residuo cuadrático\" por `-1`. ¡Los tres resultados son iguales!\n",
        "\n",
        "Entonces, ¿cuál es el truco? [El símbolo de Legendre](https://es.wikipedia.org/wiki/S%C3%ADmbolo_de_Legendre) ofrece una forma eficiente de determinar si un entero es un residuo cuadrático módulo de un primo impar `p`.\n",
        "\n",
        "El símbolo de Legendre: `(a/p)≡a^((p-1)/2) mod p` obedece a:\n",
        "\n",
        "```\n",
        "(a/p)=1 si a es un residuo cuadrático y a≢ 0 mod p\n",
        "(a/p)=-1 si a es un residuo cuadrático no mod p\n",
        "(a/p)=0 si a ≡ 0 mod p\n",
        "```\n",
        "\n",
        "Esto significa que, dado cualquier entero `a`, calcular `a^(p-1)/2 mod p` es suficiente para determinar si `a` es un residuo cuadrático.\n",
        "\n",
        "Ahora, para la bandera. Dados los siguientes 1024 bits primos y 10 enteros, encuentre el residuo cuadrático y luego calcule su raíz cuadrada; la raíz cuadrada es su bandera. De las dos raíces posibles, envíe la mayor como su respuesta.\n",
        "\n",
        "> Entonces, el símbolo de Legendre nos dice qué entero es un residuo cuadrático, pero ¿cómo encontramos la raíz cuadrada? El primo proporcionado obedece a `p = 3 mod 4`, lo que nos permite calcular fácilmente la raíz cuadrada. La respuesta está en línea, pero puedes averiguarla tú mismo si piensas en el pequeño teorema de Fermat.\n",
        "\n",
        "Archivos del desafío:\n",
        "- [output.txt](https://cryptohack.org/static/challenges/output_479698cde19aaa05d9e9dfca460f5443.txt)\n",
        "\n",
        "\n"
      ],
      "metadata": {
        "id": "FeZ4YpV_6oZk"
      }
    },
    {
      "cell_type": "code",
      "source": [
        "p = 101524035174539890485408575671085261788758965189060164484385690801466167356667036677932998889725476582421738788500738738503134356158197247473850273565349249573867251280253564698939768700489401960767007716413932851838937641880157263936985954881657889497583485535527613578457628399173971810541670838543309159139\n",
        "\n",
        "ints = [25081841204695904475894082974192007718642931811040324543182130088804239047149283334700530600468528298920930150221871666297194395061462592781551275161695411167049544771049769000895119729307495913024360169904315078028798025169985966732789207320203861858234048872508633514498384390497048416012928086480326832803,\n",
        "        45471765180330439060504647480621449634904192839383897212809808339619841633826534856109999027962620381874878086991125854247108359699799913776917227058286090426484548349388138935504299609200377899052716663351188664096302672712078508601311725863678223874157861163196340391008634419348573975841578359355931590555,\n",
        "        17364140182001694956465593533200623738590196990236340894554145562517924989208719245429557645254953527658049246737589538280332010533027062477684237933221198639948938784244510469138826808187365678322547992099715229218615475923754896960363138890331502811292427146595752813297603265829581292183917027983351121325,\n",
        "        14388109104985808487337749876058284426747816961971581447380608277949200244660381570568531129775053684256071819837294436069133592772543582735985855506250660938574234958754211349215293281645205354069970790155237033436065434572020652955666855773232074749487007626050323967496732359278657193580493324467258802863,\n",
        "        4379499308310772821004090447650785095356643590411706358119239166662089428685562719233435615196994728767593223519226235062647670077854687031681041462632566890129595506430188602238753450337691441293042716909901692570971955078924699306873191983953501093343423248482960643055943413031768521782634679536276233318,\n",
        "        85256449776780591202928235662805033201684571648990042997557084658000067050672130152734911919581661523957075992761662315262685030115255938352540032297113615687815976039390537716707854569980516690246592112936796917504034711418465442893323439490171095447109457355598873230115172636184525449905022174536414781771,\n",
        "        50576597458517451578431293746926099486388286246142012476814190030935689430726042810458344828563913001012415702876199708216875020997112089693759638454900092580746638631062117961876611545851157613835724635005253792316142379239047654392970415343694657580353333217547079551304961116837545648785312490665576832987,\n",
        "        96868738830341112368094632337476840272563704408573054404213766500407517251810212494515862176356916912627172280446141202661640191237336568731069327906100896178776245311689857997012187599140875912026589672629935267844696976980890380730867520071059572350667913710344648377601017758188404474812654737363275994871,\n",
        "        4881261656846638800623549662943393234361061827128610120046315649707078244180313661063004390750821317096754282796876479695558644108492317407662131441224257537276274962372021273583478509416358764706098471849536036184924640593888902859441388472856822541452041181244337124767666161645827145408781917658423571721,\n",
        "        18237936726367556664171427575475596460727369368246286138804284742124256700367133250078608537129877968287885457417957868580553371999414227484737603688992620953200143688061024092623556471053006464123205133894607923801371986027458274343737860395496260538663183193877539815179246700525865152165600985105257601565\n",
        "        ]\n",
        "\n",
        "def legendre_symbol(a, p):\n",
        "    return pow(a, (p - 1) // 2, p)\n",
        "\n",
        "for a in ints:\n",
        "  if legendre_symbol(a, p) == 1:\n",
        "    qr = a\n",
        "    break\n",
        "\n",
        "max(pow(qr,(p+1)//4, p), pow(-qr,(p+1)//4, p))\n"
      ],
      "metadata": {
        "id": "OmKptcZp9wZT"
      },
      "execution_count": null,
      "outputs": []
    },
    {
      "cell_type": "markdown",
      "source": [
        "## Modular Square Root"
      ],
      "metadata": {
        "id": "ZqbdkY2XItox"
      }
    },
    {
      "cell_type": "markdown",
      "source": [
        "En Símbolo de Legendre presentamos una forma rápida de determinar si un número es una raíz cuadrada módulo de un primo. Podemos ir más allá: existen algoritmos para calcular de manera eficiente dichas raíces. El mejor en la práctica se llama Tonelli-Shanks, que recibe su nombre divertido del hecho de que fue descrito por primera vez por un italiano en el siglo XIX y redescubierto de manera independiente por Daniel Shanks en la década de 1970.\n",
        "\n",
        "Todos los primos que no son 2 son de la forma `p ≡ 1 mod 4` o `p ≡ 3 mod 4`, ya que todos los números impares obedecen a estas congruencias. Como se insinuó en el desafío anterior, en el caso `p ≡ 3 mod 4`, se puede [derivar](https://crypto.stackexchange.com/questions/20993/significance-of-3mod4-in-squares-and-square-roots-mod-n/20994#20994) directamente una fórmula realmente simple para calcular raíces cuadradas del pequeño teorema de Fermat. Eso nos deja todavía con el caso `p ≡ 1 mod 4`, por lo que se requiere un algoritmo más general.\n",
        "\n",
        "En una congruencia de la forma `r^2 ≡ a mod p`, Tonelli-Shanks calcula `r`.\n",
        "\n",
        "> El método Tonelli-Shanks no funciona para módulos compuestos (no primos). Encontrar raíces cuadradas módulo compuestos es computacionalmente equivalente a la factorización de números enteros, es decir, es un problema difícil.\n",
        "\n",
        "El principal caso de uso de este algoritmo es encontrar las coordenadas de una curva elíptica. Su funcionamiento es algo complejo, por lo que no analizaremos los detalles. Sin embargo, es fácil encontrar implementaciones y Sage tiene una incorporada.\n",
        "\n",
        "Encuentra la raíz cuadrada de `a` módulo del primo `p` de 2048 bits. Da la raíz más pequeña de las dos como respuesta.\n",
        "\n",
        "Archivos del desafío:\n",
        "- [output.txt](https://cryptohack.org/static/challenges/output_abe0beb359a950c8a0a9300897528a9d.txt)\n",
        "\n",
        "\n"
      ],
      "metadata": {
        "id": "Z3Tm8vf4IufO"
      }
    },
    {
      "cell_type": "code",
      "source": [
        "a = 8479994658316772151941616510097127087554541274812435112009425778595495359700244470400642403747058566807127814165396640215844192327900454116257979487432016769329970767046735091249898678088061634796559556704959846424131820416048436501387617211770124292793308079214153179977624440438616958575058361193975686620046439877308339989295604537867493683872778843921771307305602776398786978353866231661453376056771972069776398999013769588936194859344941268223184197231368887060609212875507518936172060702209557124430477137421847130682601666968691651447236917018634902407704797328509461854842432015009878011354022108661461024768\n",
        "p = 30531851861994333252675935111487950694414332763909083514133769861350960895076504687261369815735742549428789138300843082086550059082835141454526618160634109969195486322015775943030060449557090064811940139431735209185996454739163555910726493597222646855506445602953689527405362207926990442391705014604777038685880527537489845359101552442292804398472642356609304810680731556542002301547846635101455995732584071355903010856718680732337369128498655255277003643669031694516851390505923416710601212618443109844041514942401969629158975457079026906304328749039997262960301209158175920051890620947063936347307238412281568760161\n",
        "\n",
        "def legendre_symbol(a, p):\n",
        "    return pow(a, (p - 1) // 2, p)\n",
        "\n",
        "def tonelli_shanks(a, p):\n",
        "    if legendre_symbol(a, p) != 1:\n",
        "        return None\n",
        "\n",
        "    q, s = p - 1, 0\n",
        "    while q % 2 == 0:\n",
        "        q //= 2\n",
        "        s += 1\n",
        "\n",
        "    z = 2\n",
        "    while legendre_symbol(z, p) != p - 1:\n",
        "        z += 1\n",
        "\n",
        "    m, c, t, r = s, pow(z, q, p), pow(a, q, p), pow(a, (q + 1) // 2, p)\n",
        "\n",
        "    while t != 1:\n",
        "        i = 0\n",
        "        temp = t\n",
        "        while temp != 1:\n",
        "            temp = pow(temp, 2, p)\n",
        "            i += 1\n",
        "            if i == m:\n",
        "                return None\n",
        "\n",
        "        b = pow(c, 2 ** (m - i - 1), p)\n",
        "        r = (r * b) % p\n",
        "        t = (t * b * b) % p\n",
        "        c = (b * b) % p\n",
        "        m = i\n",
        "\n",
        "    return r, p - r\n",
        "\n",
        "tonelli_shanks(a, p)"
      ],
      "metadata": {
        "id": "fmFJuHHAt_Aa"
      },
      "execution_count": null,
      "outputs": []
    },
    {
      "cell_type": "markdown",
      "source": [
        "## Chinese Remainder Theorem"
      ],
      "metadata": {
        "id": "wo1VVyS6l7It"
      }
    },
    {
      "cell_type": "markdown",
      "source": [
        "El teorema del resto chino proporciona una solución única para un conjunto de congruencias lineales si sus módulos son coprimos.\n",
        "\n",
        "Esto significa que, dado un conjunto de números enteros arbitrarios `a^i` y números enteros coprimos por pares `n^i`, se cumplen las siguientes congruencias lineales:\n",
        "\n",
        "> Tenga en cuenta que \"enteros coprimos por pares\" significa que si tenemos un conjunto de enteros `{n^1, n^2, ..., n^i}`, todos los pares de enteros seleccionados del conjunto son coprimos: `mcd(n^i,n^j) = 1`.\n",
        "\n",
        "```\n",
        "x ≡ a^1 mod n^1\n",
        "x ≡ a^2 mod n^2\n",
        "……\n",
        "x ≡ a^n mod n^n\n",
        "```\n",
        "\n",
        "Existe una solución única `x ≡ a mod N` donde `N=n^1 ⋅ n^2 ⋅ ... ⋅n^n.`\n",
        "\n",
        "En criptografía, usamos comúnmente el Teorema del Resto Chino para ayudarnos a reducir un problema de números enteros muy grandes a un conjunto de varios problemas más sencillos.\n",
        "\n",
        "Dado el siguiente conjunto de congruencias lineales:\n",
        "\n",
        "```\n",
        "x ≡ 2 mod 5\n",
        "x ≡ 3 mod 11\n",
        "x ≡ 5 mod 17\n",
        "```\n",
        "\n",
        "Encuentra el entero `a` tal que `x ≡ a mod 935`\n",
        "\n",
        "> Comenzando con la congruencia con el módulo más grande, usamos que para `x ≡ a mod p` podemos escribir `x = a + k ⋅ p` para un entero arbitrario `k`.\n",
        "\n"
      ],
      "metadata": {
        "id": "V8VbECfAl74D"
      }
    },
    {
      "cell_type": "code",
      "source": [
        "N = 935\n",
        "\n",
        "a = [2, 3, 5]\n",
        "n = [5, 11, 17]\n",
        "\n",
        "def mod_inverse(a, m):\n",
        "    g, x, y = extended_gcd(a, m)\n",
        "    if g != 1:\n",
        "        raise ValueError(\"El inverso no existe\")\n",
        "    return x % m\n",
        "\n",
        "def extended_gcd(a, b):\n",
        "    if a == 0:\n",
        "        return b, 0, 1\n",
        "    g, x1, y1 = extended_gcd(b % a, a)\n",
        "    x = y1 - (b // a) * x1\n",
        "    y = x1\n",
        "    return g, x, y\n",
        "\n",
        "y = 0\n",
        "\n",
        "for i in range(0, 3):\n",
        "  m = N//n[i]\n",
        "  y += ( mod_inverse(m%n[i], n[i]) * a[i] * m )\n",
        "\n",
        "print(y % N)"
      ],
      "metadata": {
        "id": "45dWkpxIoaKS"
      },
      "execution_count": null,
      "outputs": []
    },
    {
      "cell_type": "markdown",
      "source": [
        "# Brainteasers Part 1"
      ],
      "metadata": {
        "id": "4gXlMVloBcuq"
      }
    },
    {
      "cell_type": "markdown",
      "source": [
        "## Successive Powers"
      ],
      "metadata": {
        "id": "FFYyZjlZBeMy"
      }
    },
    {
      "cell_type": "markdown",
      "source": [
        "Los siguientes números enteros: `{588, 665, 216, 113, 642, 4, 836, 114,851, 492, 819, 237}` son potencias grandes sucesivas de un número entero `x`, módulo un primo de tres dígitos `p`.\n",
        "\n",
        "Encuentra `p` y `x` para obtener la bandera.\n",
        "\n",
        "> Puedes hacer esto con lápiz y papel. Hemos incluido este desafío como excusa para que te acostumbres al álgebra y las matemáticas modulares."
      ],
      "metadata": {
        "id": "g_YT_udnBgWJ"
      }
    },
    {
      "cell_type": "code",
      "source": [
        "eqs = [588, 665, 216, 113, 642, 4, 836, 114, 851, 492, 819, 237]\n",
        "\n",
        "prime_values = [859, 863, 877, 881, 883, 887, 907, 911, 919, 929, 937, 941, 947, 953, 967, 971, 977, 983, 991, 997]\n",
        "\n",
        "def check_equations(x, p, k):\n",
        "  return all(pow(x, k + i, p) == eqs[i] for i in range(len(eqs)))\n",
        "\n",
        "for p in prime_values:\n",
        "  for x in range(p):\n",
        "    for k in range(p):\n",
        "      if check_equations(x, p, k):\n",
        "        print(f\"x = {x}, p = {p}, k = {k}\")"
      ],
      "metadata": {
        "id": "7_GwUml2R3U5"
      },
      "execution_count": null,
      "outputs": []
    },
    {
      "cell_type": "markdown",
      "source": [
        "## Adrien's Signs"
      ],
      "metadata": {
        "id": "34owDlJgvhbw"
      }
    },
    {
      "cell_type": "markdown",
      "source": [
        "Adrien ha estado buscando formas de encriptar sus mensajes con la ayuda de símbolos y signos menos. ¿Puedes encontrar una forma de recuperar la bandera?\n",
        "\n",
        "Archivos del desafío:\n",
        "- [source.py](https://cryptohack.org/static/challenges/source_734d7e14251f950935f83d228f8694ab.py)\n",
        "- [output.txt](https://cryptohack.org/static/challenges/output_80fc6398d2fd9f272186d0af510323f9.txt)"
      ],
      "metadata": {
        "id": "kF_dLio8vlUs"
      }
    },
    {
      "cell_type": "code",
      "source": [
        "ns = [67594220461269, 501237540280788, 718316769824518, 296304224247167, 48290626940198, 30829701196032, 521453693392074, 840985324383794, 770420008897119, 745131486581197, 729163531979577, 334563813238599, 289746215495432, 538664937794468, 894085795317163, 983410189487558, 863330928724430, 996272871140947, 352175210511707, 306237700811584, 631393408838583, 589243747914057, 538776819034934, 365364592128161, 454970171810424, 986711310037393, 657756453404881, 388329936724352, 90991447679370, 714742162831112, 62293519842555, 653941126489711, 448552658212336, 970169071154259, 339472870407614, 406225588145372, 205721593331090, 926225022409823, 904451547059845, 789074084078342, 886420071481685, 796827329208633, 433047156347276, 21271315846750, 719248860593631, 534059295222748, 879864647580512, 918055794962142, 635545050939893, 319549343320339, 93008646178282, 926080110625306, 385476640825005, 483740420173050, 866208659796189, 883359067574584, 913405110264883, 898864873510337, 208598541987988, 23412800024088, 911541450703474, 57446699305445, 513296484586451, 180356843554043, 756391301483653, 823695939808936, 452898981558365, 383286682802447, 381394258915860, 385482809649632, 357950424436020, 212891024562585, 906036654538589, 706766032862393, 500658491083279, 134746243085697, 240386541491998, 850341345692155, 826490944132718, 329513332018620, 41046816597282, 396581286424992, 488863267297267, 92023040998362, 529684488438507, 925328511390026, 524897846090435, 413156582909097, 840524616502482, 325719016994120, 402494835113608, 145033960690364, 43932113323388, 683561775499473, 434510534220939, 92584300328516, 763767269974656, 289837041593468, 11468527450938, 628247946152943, 8844724571683, 813851806959975, 72001988637120, 875394575395153, 70667866716476, 75304931994100, 226809172374264, 767059176444181, 45462007920789, 472607315695803, 325973946551448, 64200767729194, 534886246409921, 950408390792175, 492288777130394, 226746605380806, 944479111810431, 776057001143579, 658971626589122, 231918349590349, 699710172246548, 122457405264610, 643115611310737, 999072890586878, 203230862786955, 348112034218733, 240143417330886, 927148962961842, 661569511006072, 190334725550806, 763365444730995, 516228913786395, 846501182194443, 741210200995504, 511935604454925, 687689993302203, 631038090127480, 961606522916414, 138550017953034, 932105540686829, 215285284639233, 772628158955819, 496858298527292, 730971468815108, 896733219370353, 967083685727881, 607660822695530, 650953466617730, 133773994258132, 623283311953090, 436380836970128, 237114930094468, 115451711811481, 674593269112948, 140400921371770, 659335660634071, 536749311958781, 854645598266824, 303305169095255, 91430489108219, 573739385205188, 400604977158702, 728593782212529, 807432219147040, 893541884126828, 183964371201281, 422680633277230, 218817645778789, 313025293025224, 657253930848472, 747562211812373, 83456701182914, 470417289614736, 641146659305859, 468130225316006, 46960547227850, 875638267674897, 662661765336441, 186533085001285, 743250648436106, 451414956181714, 527954145201673, 922589993405001, 242119479617901, 865476357142231, 988987578447349, 430198555146088, 477890180119931, 844464003254807, 503374203275928, 775374254241792, 346653210679737, 789242808338116, 48503976498612, 604300186163323, 475930096252359, 860836853339514, 994513691290102, 591343659366796, 944852018048514, 82396968629164, 152776642436549, 916070996204621, 305574094667054, 981194179562189, 126174175810273, 55636640522694, 44670495393401, 74724541586529, 988608465654705, 870533906709633, 374564052429787, 486493568142979, 469485372072295, 221153171135022, 289713227465073, 952450431038075, 107298466441025, 938262809228861, 253919870663003, 835790485199226, 655456538877798, 595464842927075, 191621819564547]\n",
        "\n",
        "a = 288260533169915\n",
        "p = 1007621497415251\n",
        "\n",
        "def legendre_symbol(a, p):\n",
        "  return pow(a, (p - 1) // 2, p)\n",
        "\n",
        "flag_list = []\n",
        "\n",
        "for n in ns:\n",
        "  flag_list.append('1' if legendre_symbol(n, p) == 1 else '0')\n",
        "\n",
        "flag_str = \"\".join(flag_list)\n",
        "\n",
        "flag = \"\".join(chr(int(flag_str[i:i+8], 2)) for i in range(0, len(flag_str), 8))\n",
        "\n",
        "flag"
      ],
      "metadata": {
        "colab": {
          "base_uri": "https://localhost:8080/",
          "height": 35
        },
        "id": "oBP1bt2AvusI",
        "outputId": "17f587bd-979b-4aca-8c60-23cc5462518c"
      },
      "execution_count": 56,
      "outputs": [
        {
          "output_type": "execute_result",
          "data": {
            "text/plain": [
              "'crypto{p4tterns_1n_re5idu3s}'"
            ],
            "application/vnd.google.colaboratory.intrinsic+json": {
              "type": "string"
            }
          },
          "metadata": {},
          "execution_count": 56
        }
      ]
    }
  ]
}