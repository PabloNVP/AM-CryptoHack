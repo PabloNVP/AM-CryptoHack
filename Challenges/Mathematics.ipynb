{
  "nbformat": 4,
  "nbformat_minor": 0,
  "metadata": {
    "colab": {
      "provenance": []
    },
    "kernelspec": {
      "name": "python3",
      "display_name": "Python 3"
    },
    "language_info": {
      "name": "python"
    }
  },
  "cells": [
    {
      "cell_type": "markdown",
      "source": [
        "# Modular Math"
      ],
      "metadata": {
        "id": "pxdjr9f5OuiT"
      }
    },
    {
      "cell_type": "markdown",
      "source": [
        "## Quadratic Residues"
      ],
      "metadata": {
        "id": "9isGWnchOwiz"
      }
    },
    {
      "cell_type": "markdown",
      "source": [
        "Hemos visto la multiplicación y la división en aritmética modular, pero ¿qué significa tomar la raíz cuadrada módulo de un entero?\n",
        "\n",
        "Para la siguiente discusión, trabajemos módulo `p=29`. Podemos tomar el entero `a=11` y calcular `a^2 = 5 mod 29`.\n",
        "\n",
        "Como `a = 11, a^2 = 5`, decimos que la raíz cuadrada de `5` es `11`.\n",
        "\n",
        "Esto se siente bien, pero ahora pensemos en la raíz cuadrada de `18`. De lo anterior, sabemos que necesitamos encontrar algún entero `a` tal que `a^2=18`\n",
        "\n",
        "Tu primera idea podría ser comenzar con `a = 1` y hacer un bucle hasta `a = p - 1`. En esta discusión, `p` no es demasiado grande y podemos verificar rápidamente todas las opciones.\n",
        "\n",
        "Inténtalo, intenta codificar esto y mira lo que encuentras. Si lo has codificado correctamente, encontrarás que para todo `a ∈ Fp*` nunca encontrarás un `a` tal que `a^2 = 18`.\n",
        "\n",
        "Lo que estamos viendo es que para los elementos de `Fp*`, no todos los elementos tienen una raíz cuadrada. De hecho, lo que encontramos es que para aproximadamente la mitad de los elementos de `Fp*`, no hay raíz cuadrada.\n",
        "\n",
        "> Decimos que un entero `x` es un residuo cuadrático si existe un `a` tal que `a^2 ≡ x mod p`. Si no existe tal solución, entonces el entero es un no residuo cuadrático.\n",
        "\n",
        "En otras palabras, `x` es un residuo cuadrático cuando es posible tomar la raíz cuadrada de `x` módulo un entero `p`.\n",
        "\n",
        "En la lista a continuación hay dos residuos no cuadráticos y un residuo cuadrático.\n",
        "\n",
        "Encuentre el residuo cuadrático y luego calcule su raíz cuadrada. De las dos raíces posibles, envíe la más pequeña como bandera.\n",
        "\n",
        "> Si `a^2 = x` entonces `(-a)^2 = x`. Por lo tanto, si `x` es un residuo cuadrático en algún cuerpo finito, entonces siempre hay dos soluciones para `a`.\n",
        "\n",
        "```\n",
        "p=29 ints=[14,6,11]\n",
        "```"
      ],
      "metadata": {
        "id": "-IMkAVrOO5DH"
      }
    },
    {
      "cell_type": "code",
      "execution_count": null,
      "metadata": {
        "id": "iLxgYbIlOm7D"
      },
      "outputs": [],
      "source": [
        "ints=[14, 6, 11]\n",
        "p=29\n",
        "\n",
        "def first_qr(p, ints):\n",
        "  for i in range(p-1):\n",
        "    for num in ints:\n",
        "      if (pow(i, 2, p) == num):\n",
        "        return i\n",
        "\n",
        "first_qr(p, ints)"
      ]
    },
    {
      "cell_type": "markdown",
      "source": [
        "## Legendre Symbol"
      ],
      "metadata": {
        "id": "Xn_rMwbf6imr"
      }
    },
    {
      "cell_type": "markdown",
      "source": [
        "En Residuos cuadráticos aprendimos lo que significa sacar la raíz cuadrada módulo de un entero. También vimos que sacar una raíz no siempre es posible.\n",
        "\n",
        "En el caso anterior, cuando `p=29`, incluso el método más simple para calcular la raíz cuadrada era lo suficientemente rápido, pero a medida que `p` se hace más grande, este método se vuelve extremadamente irrazonable.\n",
        "\n",
        "Afortunadamente para nosotros, tenemos una manera de comprobar si un entero es un residuo cuadrático con un solo cálculo gracias a Legendre. A continuación, asumiremos que estamos trabajando módulo de un primo `p`.\n",
        "\n",
        "Antes de analizar el símbolo de Legendre, hagamos un breve desvío para ver una propiedad interesante de los (no) residuos cuadráticos.\n",
        "\n",
        "```\n",
        "Residuo cuadrático * Residuo cuadrático = Residuo cuadrático\n",
        "Residuo cuadrático * No residuo cuadrático = No residuo cuadrático\n",
        "No residuo cuadrático * No residuo cuadrático = Residuo cuadrático\n",
        "```\n",
        "\n",
        "> ¿Quieres una forma sencilla de recordar esto? Reemplaza \"residuo cuadrático\" por `+1` y \"sin residuo cuadrático\" por `-1`. ¡Los tres resultados son iguales!\n",
        "\n",
        "Entonces, ¿cuál es el truco? [El símbolo de Legendre](https://es.wikipedia.org/wiki/S%C3%ADmbolo_de_Legendre) ofrece una forma eficiente de determinar si un entero es un residuo cuadrático módulo de un primo impar `p`.\n",
        "\n",
        "El símbolo de Legendre: `(a/p)≡a^((p-1)/2) mod p` obedece a:\n",
        "\n",
        "```\n",
        "(a/p)=1 si a es un residuo cuadrático y a≢ 0 mod p\n",
        "(a/p)=-1 si a es un residuo cuadrático no mod p\n",
        "(a/p)=0 si a ≡ 0 mod p\n",
        "```\n",
        "\n",
        "Esto significa que, dado cualquier entero `a`, calcular `a^(p-1)/2 mod p` es suficiente para determinar si `a` es un residuo cuadrático.\n",
        "\n",
        "Ahora, para la bandera. Dados los siguientes 1024 bits primos y 10 enteros, encuentre el residuo cuadrático y luego calcule su raíz cuadrada; la raíz cuadrada es su bandera. De las dos raíces posibles, envíe la mayor como su respuesta.\n",
        "\n",
        "> Entonces, el símbolo de Legendre nos dice qué entero es un residuo cuadrático, pero ¿cómo encontramos la raíz cuadrada? El primo proporcionado obedece a `p = 3 mod 4`, lo que nos permite calcular fácilmente la raíz cuadrada. La respuesta está en línea, pero puedes averiguarla tú mismo si piensas en el pequeño teorema de Fermat.\n",
        "\n",
        "Archivos del desafío:\n",
        "- [output.txt](https://cryptohack.org/static/challenges/output_479698cde19aaa05d9e9dfca460f5443.txt)\n",
        "\n",
        "\n"
      ],
      "metadata": {
        "id": "FeZ4YpV_6oZk"
      }
    },
    {
      "cell_type": "code",
      "source": [
        "p = 101524035174539890485408575671085261788758965189060164484385690801466167356667036677932998889725476582421738788500738738503134356158197247473850273565349249573867251280253564698939768700489401960767007716413932851838937641880157263936985954881657889497583485535527613578457628399173971810541670838543309159139\n",
        "\n",
        "ints = [25081841204695904475894082974192007718642931811040324543182130088804239047149283334700530600468528298920930150221871666297194395061462592781551275161695411167049544771049769000895119729307495913024360169904315078028798025169985966732789207320203861858234048872508633514498384390497048416012928086480326832803,\n",
        "        45471765180330439060504647480621449634904192839383897212809808339619841633826534856109999027962620381874878086991125854247108359699799913776917227058286090426484548349388138935504299609200377899052716663351188664096302672712078508601311725863678223874157861163196340391008634419348573975841578359355931590555,\n",
        "        17364140182001694956465593533200623738590196990236340894554145562517924989208719245429557645254953527658049246737589538280332010533027062477684237933221198639948938784244510469138826808187365678322547992099715229218615475923754896960363138890331502811292427146595752813297603265829581292183917027983351121325,\n",
        "        14388109104985808487337749876058284426747816961971581447380608277949200244660381570568531129775053684256071819837294436069133592772543582735985855506250660938574234958754211349215293281645205354069970790155237033436065434572020652955666855773232074749487007626050323967496732359278657193580493324467258802863,\n",
        "        4379499308310772821004090447650785095356643590411706358119239166662089428685562719233435615196994728767593223519226235062647670077854687031681041462632566890129595506430188602238753450337691441293042716909901692570971955078924699306873191983953501093343423248482960643055943413031768521782634679536276233318,\n",
        "        85256449776780591202928235662805033201684571648990042997557084658000067050672130152734911919581661523957075992761662315262685030115255938352540032297113615687815976039390537716707854569980516690246592112936796917504034711418465442893323439490171095447109457355598873230115172636184525449905022174536414781771,\n",
        "        50576597458517451578431293746926099486388286246142012476814190030935689430726042810458344828563913001012415702876199708216875020997112089693759638454900092580746638631062117961876611545851157613835724635005253792316142379239047654392970415343694657580353333217547079551304961116837545648785312490665576832987,\n",
        "        96868738830341112368094632337476840272563704408573054404213766500407517251810212494515862176356916912627172280446141202661640191237336568731069327906100896178776245311689857997012187599140875912026589672629935267844696976980890380730867520071059572350667913710344648377601017758188404474812654737363275994871,\n",
        "        4881261656846638800623549662943393234361061827128610120046315649707078244180313661063004390750821317096754282796876479695558644108492317407662131441224257537276274962372021273583478509416358764706098471849536036184924640593888902859441388472856822541452041181244337124767666161645827145408781917658423571721,\n",
        "        18237936726367556664171427575475596460727369368246286138804284742124256700367133250078608537129877968287885457417957868580553371999414227484737603688992620953200143688061024092623556471053006464123205133894607923801371986027458274343737860395496260538663183193877539815179246700525865152165600985105257601565\n",
        "        ]\n",
        "\n",
        "for a in ints:\n",
        "  if pow(a, (p-1)//2, p) == 1:\n",
        "    qr = a\n",
        "    break\n",
        "\n",
        "max(pow(qr,(p+1)//4, p), pow(-qr,(p+1)//4, p))\n"
      ],
      "metadata": {
        "id": "OmKptcZp9wZT"
      },
      "execution_count": null,
      "outputs": []
    }
  ]
}