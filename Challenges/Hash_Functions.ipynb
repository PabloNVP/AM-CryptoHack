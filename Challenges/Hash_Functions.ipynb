{
  "nbformat": 4,
  "nbformat_minor": 0,
  "metadata": {
    "colab": {
      "provenance": []
    },
    "kernelspec": {
      "name": "python3",
      "display_name": "Python 3"
    },
    "language_info": {
      "name": "python"
    }
  },
  "cells": [
    {
      "cell_type": "markdown",
      "source": [
        "# Probability"
      ],
      "metadata": {
        "id": "ZiPzSkEzkwOc"
      }
    },
    {
      "cell_type": "markdown",
      "source": [
        "## Jack's Birthday Hash"
      ],
      "metadata": {
        "id": "YkFfXUNrkyEC"
      }
    },
    {
      "cell_type": "markdown",
      "source": [
        "Hoy es el cumpleaños de Jack, así que diseñó su propio hash criptográfico para celebrarlo.\n",
        "\n",
        "Al leer sobre los componentes clave de las funciones hash, le preocupa un poco la seguridad del hash `JACK11`.\n",
        "\n",
        "Dados los datos de entrada, `JACK11` se diseñó para producir una matriz determinista de bits de longitud 11, sensible a pequeños cambios mediante el efecto avalancha.\n",
        "\n",
        "Usando `JACK11`, su secreto tiene el valor hash: `JACK(secreto) = 01011001101`.\n",
        "\n",
        "Sin otros datos del algoritmo hash `JACK11`, ¿cuántos secretos únicos esperarías que se procesaran para tener (en promedio) un 50 % de probabilidad de colisión con el secreto de Jack?"
      ],
      "metadata": {
        "id": "LnZwMninlYQZ"
      }
    },
    {
      "cell_type": "code",
      "execution_count": null,
      "metadata": {
        "id": "nMiFocLWka2Z"
      },
      "outputs": [],
      "source": [
        "from math import log, ceil\n",
        "\n",
        "bits = 11\n",
        "H = 2**bits\n",
        "\n",
        "k = log(0.5) / log(1-(1/H)) # (1 - 1/H)^k = 0.5\n",
        "\n",
        "ceil(k)"
      ]
    }
  ]
}