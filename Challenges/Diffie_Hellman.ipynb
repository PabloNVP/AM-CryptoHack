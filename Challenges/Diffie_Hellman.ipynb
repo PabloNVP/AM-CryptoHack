{
  "nbformat": 4,
  "nbformat_minor": 0,
  "metadata": {
    "colab": {
      "provenance": []
    },
    "kernelspec": {
      "name": "python3",
      "display_name": "Python 3"
    },
    "language_info": {
      "name": "python"
    }
  },
  "cells": [
    {
      "cell_type": "markdown",
      "source": [
        "# Starter"
      ],
      "metadata": {
        "id": "oO_LRNdnnLf7"
      }
    },
    {
      "cell_type": "markdown",
      "source": [
        "## Working with Fields"
      ],
      "metadata": {
        "id": "_u3yu8rknP6H"
      }
    },
    {
      "cell_type": "markdown",
      "source": [
        "El conjunto de enteros módulo `N`, junto con las operaciones de suma y multiplicación, forma un anillo `Z/NZ`. Básicamente, esto significa que al sumar o multiplicar dos elementos cualesquiera del conjunto, se obtiene otro elemento del mismo.\n",
        "\n",
        "Cuando el módulo es primo: `N=p`, se garantiza además un inverso multiplicativo de cada elemento del conjunto, por lo que el anillo se convierte en un cuerpo. En particular, nos referimos a este cuerpo como un cuerpo finito, denotado `Fp`.\n",
        "\n",
        "El protocolo Diffie-Hellman funciona con elementos de un cuerpo finito `Fp`, donde el módulo primo suele ser muy grande (miles de bits), pero para los siguientes desafíos, mantendremos números más pequeños para mayor compacidad.\n",
        "\n",
        "Dado el primo `p=991`, y el elemento `g=209`, encuentre el elemento inverso `d=g^(-1)` tal que `g ⋅ d mod 991 = 1`."
      ],
      "metadata": {
        "id": "vsVmoy4NnTzJ"
      }
    },
    {
      "cell_type": "code",
      "execution_count": null,
      "metadata": {
        "id": "5qFwrHcGnImB"
      },
      "outputs": [],
      "source": [
        "p = 991\n",
        "g = 209\n",
        "\n",
        "pow(g, -1, 991)"
      ]
    },
    {
      "cell_type": "markdown",
      "source": [
        "## Generators of Groups"
      ],
      "metadata": {
        "id": "6oftW_5Ftlag"
      }
    },
    {
      "cell_type": "markdown",
      "source": [
        "Cada elemento de un cuerpo finito `Fp` puede usarse para formar un subgrupo `H` bajo la acción repetida de multiplicación. En otras palabras, para un elemento `g`, el subgrupo `H=⟨g⟩={g,g2,g3,…}`\n",
        "\n",
        "Un elemento primitivo de `Fp` es un elemento cuyo subgrupo `H=Fp∗`, es decir, cada elemento distinto de cero de `Fp`, puede escribirse como `g^(n) mod p` para algún entero `n`. Por ello, los elementos primitivos a veces se denominan generadores del cuerpo finito.\n",
        "\n",
        "Para el cuerpo finito con `p=28151`, encuentre el elemento `g` más pequeño que sea un elemento primitivo de `Fp`.\n",
        "\n",
        "> Este problema se puede resolver mediante fuerza bruta, pero también hay formas inteligentes de acelerar el cálculo."
      ],
      "metadata": {
        "id": "b2pWoUyMtmI5"
      }
    },
    {
      "cell_type": "code",
      "source": [
        "p=28151\n",
        "\n",
        "def get_min_generator(p):\n",
        "  for g in range(2, p):\n",
        "    for n in range(1, p-1):\n",
        "      if pow(g, n, p) == p-1:\n",
        "        return g\n",
        "\n",
        "get_min_generator(p)"
      ],
      "metadata": {
        "id": "sCudFgBQuEMT"
      },
      "execution_count": null,
      "outputs": []
    }
  ]
}