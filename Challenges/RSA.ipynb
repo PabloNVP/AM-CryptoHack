{
  "nbformat": 4,
  "nbformat_minor": 0,
  "metadata": {
    "colab": {
      "provenance": [],
      "collapsed_sections": [
        "rVGDgAFUqOoc",
        "w_Syr0eRqRJB",
        "D4-zp87tntt1",
        "Hen6sfPIpADX",
        "oGSS1m8B2xFK",
        "pyTCe-k_Byjp",
        "wU7nSec9FbJS",
        "-_qV-VaoSD5v",
        "l_z7A27pSE0G",
        "9D3PIiA0Tz5g",
        "bEWV642Bk4_X",
        "17_rG9Rfev6h"
      ]
    },
    "kernelspec": {
      "name": "python3",
      "display_name": "Python 3"
    },
    "language_info": {
      "name": "python"
    }
  },
  "cells": [
    {
      "cell_type": "markdown",
      "source": [
        "# Starter"
      ],
      "metadata": {
        "id": "rVGDgAFUqOoc"
      }
    },
    {
      "cell_type": "markdown",
      "source": [
        "## Modular Exponentiation"
      ],
      "metadata": {
        "id": "w_Syr0eRqRJB"
      }
    },
    {
      "cell_type": "markdown",
      "source": [
        "Todas las operaciones en RSA implican [exponenciación modular](https://es.wikipedia.org/wiki/Exponenciaci%C3%B3n_modular).\n",
        "\n",
        "La exponenciación modular es una operación que se utiliza ampliamente en criptografía y normalmente se escribe así: `2^10 mod 17`\n",
        "\n",
        "Puedes pensar en esto como elevar un número a una determinada potencia (`2^10 = 1024`) y luego tomar el resto de la división por otro número (`1024 mod 17 = 4`). En Python hay un operador integrado para realizar esta operación: `pow(base, exponente, módulo)`.\n",
        "\n",
        "En RSA, la exponenciación modular, junto con el problema de la factorización prima, nos ayuda a construir una \"[función trampa](https://en.wikipedia.org/wiki/Trapdoor_function)\". Esta es una función que es fácil de calcular en una dirección, pero difícil de hacer en sentido inverso a menos que tengas la información correcta. Nos permite cifrar un mensaje, y solo la persona con la clave puede realizar la operación inversa para descifrarlo.\n",
        "\n",
        "Para agarrar la bandera, encuentra la solución a `101^17 mod 22663`"
      ],
      "metadata": {
        "id": "rSU62U1YqS_B"
      }
    },
    {
      "cell_type": "code",
      "execution_count": null,
      "metadata": {
        "id": "8Nf9rcocqLnA"
      },
      "outputs": [],
      "source": [
        "pow(101, 17, 22663)"
      ]
    },
    {
      "cell_type": "markdown",
      "source": [
        "## Public Keys"
      ],
      "metadata": {
        "id": "D4-zp87tntt1"
      }
    },
    {
      "cell_type": "markdown",
      "source": [
        "El cifrado RSA es una exponenciación modular de un mensaje con un exponente `e` y un módulo `N`, que normalmente es un producto de dos primos: `N=p⋅q`.\n",
        "\n",
        "Juntos, el exponente y el módulo forman una \"clave pública\" RSA `(N,e)`. El valor más común para `e` es `0x10001` o `65537`.\n",
        "\n",
        "\"Cifre\" el número `12` utilizando el exponente `e=65537` y los primos `p=17` y `q=23`. ¿Qué número obtiene como texto cifrado?"
      ],
      "metadata": {
        "id": "y6318E_8nuVu"
      }
    },
    {
      "cell_type": "code",
      "source": [
        "e=65537\n",
        "p=17\n",
        "q=23\n",
        "\n",
        "pow(12, e, p*q)"
      ],
      "metadata": {
        "id": "kabsNbHnoOp2"
      },
      "execution_count": null,
      "outputs": []
    },
    {
      "cell_type": "markdown",
      "source": [
        "## Euler's Totient"
      ],
      "metadata": {
        "id": "Hen6sfPIpADX"
      }
    },
    {
      "cell_type": "markdown",
      "source": [
        "El RSA se basa en la dificultad de la factorización del módulo `N`. Si se pueden deducir los factores primos, entonces podemos calcular el [totiente de Euler](https://leimao.github.io/article/RSA-Algorithm/) de `N` y así descifrar el texto cifrado.\n",
        "\n",
        "Dado `N=p⋅q` y dos primos:\n",
        "\n",
        "```\n",
        "p = 857504083339712752489993810777\n",
        "q = 1029224947942998075080348647219\n",
        "```\n",
        "\n",
        "¿Cuál es el totiente de Euler `ϕ(N)`?\n",
        "\n"
      ],
      "metadata": {
        "id": "VSvWyKYcpC7Z"
      }
    },
    {
      "cell_type": "code",
      "source": [
        "p = 857504083339712752489993810777\n",
        "q = 1029224947942998075080348647219\n",
        "\n",
        "QN = (p-1)*(q-1)\n",
        "QN"
      ],
      "metadata": {
        "id": "VrWJ2__-pzkG"
      },
      "execution_count": null,
      "outputs": []
    },
    {
      "cell_type": "markdown",
      "source": [
        "## Private Keys"
      ],
      "metadata": {
        "id": "oGSS1m8B2xFK"
      }
    },
    {
      "cell_type": "markdown",
      "source": [
        "La clave privada `d` se utiliza para descifrar textos cifrados creados con la clave pública correspondiente (también se utiliza para \"firmar\" un mensaje, pero llegaremos a eso más adelante).\n",
        "\n",
        "La clave privada es la pieza de información secreta, o \"trampilla\", que nos permite invertir rápidamente la función de cifrado. Si RSA está bien implementado, si no tienes la clave privada, la forma más rápida de descifrar el texto cifrado es factorizar el módulo, lo que es muy difícil de hacer para números enteros grandes.\n",
        "\n",
        "En RSA, la clave privada es el [inverso multiplicativo modular](https://es.wikipedia.org/wiki/Inverso_multiplicativo_(aritm%C3%A9tica_modular)) del exponente `e` módulo `ϕ(N)`, el tociente de Euler de `N`.\n",
        "\n",
        "Dados los dos primos:\n",
        "\n",
        "```\n",
        "p = 857504083339712752489993810777\n",
        "q = 1029224947942998075080348647219\n",
        "```\n",
        "\n",
        "y el exponente `e=65537`, ¿cuál es la clave privada `d ≡ e^(-1) mod ϕ(N)`?\n",
        "\n",
        "\n",
        "\n"
      ],
      "metadata": {
        "id": "s4DzjEAe22bO"
      }
    },
    {
      "cell_type": "code",
      "source": [
        "p = 857504083339712752489993810777\n",
        "q = 1029224947942998075080348647219\n",
        "e = 65537\n",
        "\n",
        "d = pow(e, -1, (p-1)*(q-1))\n",
        "d"
      ],
      "metadata": {
        "id": "MF8jfr_Q30VN"
      },
      "execution_count": null,
      "outputs": []
    },
    {
      "cell_type": "markdown",
      "source": [
        "## RSA Decryption"
      ],
      "metadata": {
        "id": "pyTCe-k_Byjp"
      }
    },
    {
      "cell_type": "markdown",
      "source": [
        "He cifrado un número secreto solo para tus ojos usando tus parámetros de clave pública:\n",
        "\n",
        "```\n",
        "N = 882564595536224140639625987659416029426239230804614613279163\n",
        "e = 65537\n",
        "```\n",
        "\n",
        "Utilice la clave privada que encontró para estos parámetros en el desafío anterior para descifrar este texto cifrado:\n",
        "\n",
        "```\n",
        "c = 77578995801157823671636298847186723593814843845525223303932\n",
        "```\n",
        "\n",
        "\n",
        "\n"
      ],
      "metadata": {
        "id": "buHbjWkHBzR8"
      }
    },
    {
      "cell_type": "code",
      "source": [
        "p = 857504083339712752489993810777 # Desafio anterior\n",
        "q = 1029224947942998075080348647219 # Desafio anterior\n",
        "N = 882564595536224140639625987659416029426239230804614613279163\n",
        "e = 65537\n",
        "c = 77578995801157823671636298847186723593814843845525223303932\n",
        "\n",
        "d = pow(e, -1, (p-1)*(q-1)) # Desafio anterior\n",
        "\n",
        "pow(c, d, N)"
      ],
      "metadata": {
        "id": "meYrnS7vCC2k"
      },
      "execution_count": null,
      "outputs": []
    },
    {
      "cell_type": "markdown",
      "source": [
        "## RSA Signatures"
      ],
      "metadata": {
        "id": "wU7nSec9FbJS"
      }
    },
    {
      "cell_type": "markdown",
      "source": [
        "¿Cómo puedes asegurarte de que la persona que recibe tu mensaje sepa que lo escribiste tú?\n",
        "\n",
        "Te han invitado a una cita y quieres enviarle un mensaje diciéndole que te encantaría ir, pero a un amante celoso no le hace mucha gracia.\n",
        "\n",
        "Cuando envías tu mensaje diciendo que sí, tu amante celoso intercepta el mensaje y lo corrompe, ¡de modo que ahora dice que no!\n",
        "\n",
        "Podemos protegernos de estos ataques firmando criptográficamente el mensaje.\n",
        "\n",
        "Imagina que escribes un mensaje `m`. Cifras este mensaje con la clave pública de tu amigo: `c = m^(e0) mod N0`.\n",
        "\n",
        "Para firmar este mensaje, calculas el hash del mensaje: `H(m)` y lo \"cifras\" con tu clave privada: S = H(m)^(d1) mod N1.\n",
        "\n",
        "> En los criptosistemas reales, la [mejor práctica es utilizar claves separadas](https://crypto.stackexchange.com/questions/12090/using-the-same-rsa-keypair-to-sign-and-encrypt/12138#12138) para cifrar y firmar mensajes.\n",
        "\n",
        "Tu amigo puede descifrar el mensaje usando su clave privada: `m = c^(d0) mod N0.` Usando tu clave pública, calcula `s = S^(e1) mod N1`.\n",
        "\n",
        "Ahora, al calcular `H(m)` y compararlo con `s: assert H(m) == s`, puede asegurarse de que el mensaje que le enviaste es el mensaje que recibió. Mientras tu clave privada esté segura, nadie más podría haber firmado este mensaje.\n",
        "\n",
        "Firma la bandera `crypto{Immut4ble_m3ssag1ng}` usando tu clave privada y la función hash `SHA256`.\n",
        "\n",
        "> La salida de la función hash debe convertirse en un número que se pueda utilizar con las operaciones matemáticas RSA. Recuerde la útil función `bytes_to_long()` que se puede importar desde `Crypto.Util.number`.\n",
        "\n",
        "Archivos de desafío:\n",
        "- [private.key](https://cryptohack.org/static/challenges/private_0a1880d1fffce9403686130a1f932b10.key)"
      ],
      "metadata": {
        "id": "y7KgBJQdFbvW"
      }
    },
    {
      "cell_type": "code",
      "source": [
        "!pip3 install pycryptodome\n",
        "\n",
        "from hashlib import sha256\n",
        "from Crypto.Util.number import bytes_to_long\n",
        "\n",
        "N = 15216583654836731327639981224133918855895948374072384050848479908982286890731769486609085918857664046075375253168955058743185664390273058074450390236774324903305663479046566232967297765731625328029814055635316002591227570271271445226094919864475407884459980489638001092788574811554149774028950310695112688723853763743238753349782508121985338746755237819373178699343135091783992299561827389745132880022259873387524273298850340648779897909381979714026837172003953221052431217940632552930880000919436507245150726543040714721553361063311954285289857582079880295199632757829525723874753306371990452491305564061051059885803\n",
        "d = 11175901210643014262548222473449533091378848269490518850474399681690547281665059317155831692300453197335735728459259392366823302405685389586883670043744683993709123180805154631088513521456979317628012721881537154107239389466063136007337120599915456659758559300673444689263854921332185562706707573660658164991098457874495054854491474065039621922972671588299315846306069845169959451250821044417886630346229021305410340100401530146135418806544340908355106582089082980533651095594192031411679866134256418292249592135441145384466261279428795408721990564658703903787956958168449841491667690491585550160457893350536334242689\n",
        "msg = 'crypto{Immut4ble_m3ssag1ng}'\n",
        "\n",
        "bytes_msg = bytes([ord(x) for x in msg])\n",
        "hash_msg = sha256(bytes_msg)\n",
        "ct = pow(bytes_to_long(hash_msg.digest()), d, N)\n",
        "ct"
      ],
      "metadata": {
        "id": "gwKQrTaDHrLp"
      },
      "execution_count": null,
      "outputs": []
    },
    {
      "cell_type": "markdown",
      "source": [
        "# Primes Part 1"
      ],
      "metadata": {
        "id": "-_qV-VaoSD5v"
      }
    },
    {
      "cell_type": "markdown",
      "source": [
        "## Factoring"
      ],
      "metadata": {
        "id": "l_z7A27pSE0G"
      }
    },
    {
      "cell_type": "markdown",
      "source": [
        "Hasta ahora hemos estado usando el producto de primos pequeños para el módulo, pero los primos pequeños no son muy buenos para RSA ya que se pueden factorizar usando [métodos modernos](https://en.wikipedia.org/wiki/General_number_field_sieve).\n",
        "\n",
        "¿Qué es un \"primo pequeño\"? Hubo un [desafío de factorización RSA](https://en.wikipedia.org/wiki/RSA_Factoring_Challenge) con premios en efectivo entregados a los equipos que pudieran factorizar módulos RSA. Esto le dio al público una idea de cuánto tiempo permanecerían seguros varios tamaños de clave. Las computadoras se vuelven más rápidas, los algoritmos mejoran, por lo que en criptografía siempre es prudente pecar de cauteloso.\n",
        "\n",
        "En estos días, se recomienda usar primos que tengan al menos 1024 bits de longitud; multiplicar dos de esos 1024 primos da como resultado un módulo que tiene 2048 bits de largo. El RSA con un módulo de 2048 bits se llama RSA-2048.\n",
        "\n",
        "Algunos dicen que para permanecer realmente a prueba de futuro se debe usar RSA-4096 o incluso RSA-8192. Sin embargo, aquí hay una desventaja; Se tarda más en generar números primos grandes, además, las exponenciaciones modulares son previsiblemente más lentas con un módulo grande.\n",
        "\n",
        "Factorice el número de 150 bits `510143758735509025530880200653196460532653147` en sus dos primos constituyentes. Dé el más pequeño como su respuesta.\n",
        "\n",
        "Recursos:\n",
        "- [¿Qué tamaño de clave RSA se considera segura hoy en día?](https://crypto.stackexchange.com/questions/1978/how-big-an-rsa-key-is-considered-secure-today/1982#1982)\n",
        "- [primefac-fork](https://github.com/elliptic-shiho/primefac-fork)"
      ],
      "metadata": {
        "id": "ZFkQLypjSGoP"
      }
    },
    {
      "cell_type": "code",
      "source": [
        "#!pip install factordb-python\n",
        "\n",
        "from factordb.factordb import FactorDB\n",
        "\n",
        "n=510143758735509025530880200653196460532653147\n",
        "\n",
        "factors = FactorDB(n)\n",
        "factors.get_factor_list()\n",
        "factors.connect()\n",
        "factors_numbers = factors.get_factor_list()\n",
        "\n",
        "min(factors_numbers)"
      ],
      "metadata": {
        "id": "bQfSRkoIS5cu"
      },
      "execution_count": null,
      "outputs": []
    },
    {
      "cell_type": "markdown",
      "source": [
        "## Inferius Prime"
      ],
      "metadata": {
        "id": "9D3PIiA0Tz5g"
      }
    },
    {
      "cell_type": "markdown",
      "source": [
        "Aquí está mi implementación RSA superfuerte, ya que tiene 1600 bits de fuerza y debería ser inquebrantable... ¡al menos eso creo!\n",
        "\n",
        "Archivos de desafío:\n",
        "- [inferius.py](https://cryptohack.org/static/challenges/inferius_2facb420dc30897696869e3fd11b4b4f.py)\n",
        "- [output.txt](https://cryptohack.org/static/challenges/output_cf39018a5db981bd454ddcdcf6595167.txt)"
      ],
      "metadata": {
        "id": "pBGry3PAT0rc"
      }
    },
    {
      "cell_type": "code",
      "source": [
        "!pip3 install pycryptodome\n",
        "!pip3 install factordb-python\n",
        "\n",
        "from factordb.factordb import FactorDB\n",
        "from Crypto.Util.number import inverse, long_to_bytes\n",
        "\n",
        "\n",
        "n = 984994081290620368062168960884976209711107645166770780785733\n",
        "e = 65537\n",
        "ct = 948553474947320504624302879933619818331484350431616834086273\n",
        "\n",
        "factors = FactorDB(n)\n",
        "factors.get_factor_list()\n",
        "factors.connect()\n",
        "factors_numbers = factors.get_factor_list()\n",
        "\n",
        "phi_n = (factors_numbers[0] - 1) * (factors_numbers[1] - 1)\n",
        "\n",
        "d = inverse(e, phi_n)\n",
        "\n",
        "msg = long_to_bytes(pow(ct, d, n))\n",
        "msg"
      ],
      "metadata": {
        "id": "H6-9LyM2UDx8"
      },
      "execution_count": null,
      "outputs": []
    },
    {
      "cell_type": "markdown",
      "source": [
        "## Monoprime"
      ],
      "metadata": {
        "id": "IcCy6cb8RHfk"
      }
    },
    {
      "cell_type": "markdown",
      "source": [
        "¿Por qué todo el mundo está tan obsesionado con multiplicar dos números primos para obtener RSA? ¿Por qué no usar solo uno?\n",
        "\n",
        "Archivos de desafío:\n",
        "  - [output.txt](https://cryptohack.org/static/challenges/output_086036e35349a406b94bfac9a7af6cca.txt)\n",
        "\n",
        "Recursos:\n",
        "  - [¿Por qué necesitamos en RSA que el módulo sea producto de 2 primos?](https://crypto.stackexchange.com/questions/5170/why-do-we-need-in-rsa-the-modulus-to-be-product-of-2-primes)\n"
      ],
      "metadata": {
        "id": "RFH0dBcqRLS1"
      }
    },
    {
      "cell_type": "code",
      "source": [
        "!pip3 install pycryptodome\n",
        "\n",
        "from Crypto.Util.number import inverse, long_to_bytes\n",
        "\n",
        "n = 171731371218065444125482536302245915415603318380280392385291836472299752747934607246477508507827284075763910264995326010251268493630501989810855418416643352631102434317900028697993224868629935657273062472544675693365930943308086634291936846505861203914449338007760990051788980485462592823446469606824421932591\n",
        "e = 65537\n",
        "ct = 161367550346730604451454756189028938964941280347662098798775466019463375610700074840105776873791605070092554650190486030367121011578171525759600774739890458414593857709994072516290998135846956596662071379067305011746842247628316996977338024343628757374524136260758515864509435302781735938531030576289086798942\n",
        "\n",
        "d = inverse(e, n-1)\n",
        "\n",
        "msg = long_to_bytes(pow(ct, d, n))\n",
        "msg"
      ],
      "metadata": {
        "id": "vWoS_DrrRL5O"
      },
      "execution_count": null,
      "outputs": []
    },
    {
      "cell_type": "markdown",
      "source": [
        "## Square Eyes"
      ],
      "metadata": {
        "id": "bEWV642Bk4_X"
      }
    },
    {
      "cell_type": "markdown",
      "source": [
        "Me tomó una eternidad obtener un número primo de 2048 bits, así que generé uno y lo usé dos veces.\n",
        "\n",
        "Si estás estancado, mira nuevamente la función totiente de Euler.\n",
        "\n",
        "Archivos de desafío:\n",
        "  - [output.txt](https://cryptohack.org/static/challenges/output_00dace150c0bc52f7abf03fc3e9529d2.txt)"
      ],
      "metadata": {
        "id": "7810k8GYk8ko"
      }
    },
    {
      "cell_type": "code",
      "source": [
        "!pip3 install pycryptodome\n",
        "!pip install factordb-python\n",
        "\n",
        "from factordb.factordb import FactorDB\n",
        "from Crypto.Util.number import inverse, long_to_bytes\n",
        "\n",
        "n = 535860808044009550029177135708168016201451343147313565371014459027743491739422885443084705720731409713775527993719682583669164873806842043288439828071789970694759080842162253955259590552283047728782812946845160334801782088068154453021936721710269050985805054692096738777321796153384024897615594493453068138341203673749514094546000253631902991617197847584519694152122765406982133526594928685232381934742152195861380221224370858128736975959176861651044370378539093990198336298572944512738570839396588590096813217791191895941380464803377602779240663133834952329316862399581950590588006371221334128215409197603236942597674756728212232134056562716399155080108881105952768189193728827484667349378091100068224404684701674782399200373192433062767622841264055426035349769018117299620554803902490432339600566432246795818167460916180647394169157647245603555692735630862148715428791242764799469896924753470539857080767170052783918273180304835318388177089674231640910337743789750979216202573226794240332797892868276309400253925932223895530714169648116569013581643192341931800785254715083294526325980247219218364118877864892068185905587410977152737936310734712276956663192182487672474651103240004173381041237906849437490609652395748868434296753449\n",
        "e = 65537\n",
        "ct = 222502885974182429500948389840563415291534726891354573907329512556439632810921927905220486727807436668035929302442754225952786602492250448020341217733646472982286222338860566076161977786095675944552232391481278782019346283900959677167026636830252067048759720251671811058647569724495547940966885025629807079171218371644528053562232396674283745310132242492367274184667845174514466834132589971388067076980563188513333661165819462428837210575342101036356974189393390097403614434491507672459254969638032776897417674577487775755539964915035731988499983726435005007850876000232292458554577437739427313453671492956668188219600633325930981748162455965093222648173134777571527681591366164711307355510889316052064146089646772869610726671696699221157985834325663661400034831442431209123478778078255846830522226390964119818784903330200488705212765569163495571851459355520398928214206285080883954881888668509262455490889283862560453598662919522224935145694435885396500780651530829377030371611921181207362217397805303962112100190783763061909945889717878397740711340114311597934724670601992737526668932871436226135393872881664511222789565256059138002651403875484920711316522536260604255269532161594824301047729082877262812899724246757871448545439896\n",
        "\n",
        "factors = FactorDB(n)\n",
        "factors.get_factor_list()\n",
        "factors.connect()\n",
        "p = q = factors.get_factor_list()[0]\n",
        "\n",
        "d = inverse(e, (p)*(p-1))\n",
        "\n",
        "msg = long_to_bytes(pow(ct, d, n))\n",
        "msg"
      ],
      "metadata": {
        "id": "Zx_pvCdHlQjn"
      },
      "execution_count": null,
      "outputs": []
    },
    {
      "cell_type": "markdown",
      "source": [
        "## Manyprime"
      ],
      "metadata": {
        "id": "PBj6WyEXpN35"
      }
    },
    {
      "cell_type": "markdown",
      "source": [
        "Usar un factor primo fue definitivamente una mala idea, así que intentaré usar más de 30 en su lugar.\n",
        "\n",
        "> Si factorizar lleva una eternidad, lea sobre los algoritmos de factorización y asegúrese de utilizar uno que esté optimizado para este escenario.\n",
        "\n",
        "Archivos de desafío:\n",
        "  - [output.txt](https://cryptohack.org/static/challenges/output_5a478a5d4764257d0bbdfaed340fcbdd.txt)\n",
        "\n",
        "Recursos:\n",
        "  - [El método de factorización de la curva elíptica](https://doc.sagemath.org/html/en/reference/interfaces/sage/interfaces/ecm.html)"
      ],
      "metadata": {
        "id": "jJyzy98jpOc_"
      }
    },
    {
      "cell_type": "code",
      "source": [
        "!pip3 install pycryptodome\n",
        "!pip install factordb-python\n",
        "\n",
        "from factordb.factordb import FactorDB\n",
        "from Crypto.Util.number import inverse, long_to_bytes\n",
        "\n",
        "n = 580642391898843192929563856870897799650883152718761762932292482252152591279871421569162037190419036435041797739880389529593674485555792234900969402019055601781662044515999210032698275981631376651117318677368742867687180140048715627160641771118040372573575479330830092989800730105573700557717146251860588802509310534792310748898504394966263819959963273509119791037525504422606634640173277598774814099540555569257179715908642917355365791447508751401889724095964924513196281345665480688029639999472649549163147599540142367575413885729653166517595719991872223011969856259344396899748662101941230745601719730556631637\n",
        "e = 65537\n",
        "ct = 320721490534624434149993723527322977960556510750628354856260732098109692581338409999983376131354918370047625150454728718467998870322344980985635149656977787964380651868131740312053755501594999166365821315043312308622388016666802478485476059625888033017198083472976011719998333985531756978678758897472845358167730221506573817798467100023754709109274265835201757369829744113233607359526441007577850111228850004361838028842815813724076511058179239339760639518034583306154826603816927757236549096339501503316601078891287408682099750164720032975016814187899399273719181407940397071512493967454225665490162619270814464\n",
        "\n",
        "factors = FactorDB(n)\n",
        "factors.get_factor_list()\n",
        "factors.connect()\n",
        "factors_numbers = factors.get_factor_list()\n",
        "\n",
        "totient = 1\n",
        "for number in factors_numbers:\n",
        "  totient *= number-1\n",
        "\n",
        "d = inverse(e, totient)\n",
        "\n",
        "msg = long_to_bytes(pow(ct, d, n))\n",
        "msg\n"
      ],
      "metadata": {
        "id": "4AfdXT99pqRt"
      },
      "execution_count": null,
      "outputs": []
    },
    {
      "cell_type": "markdown",
      "source": [
        "# Public Exponent"
      ],
      "metadata": {
        "id": "fjIyFlEReq82"
      }
    },
    {
      "cell_type": "markdown",
      "source": [
        "## Salty"
      ],
      "metadata": {
        "id": "17_rG9Rfev6h"
      }
    },
    {
      "cell_type": "markdown",
      "source": [
        "El exponente más pequeño debería ser el más rápido, ¿no?\n",
        "\n",
        "Archivos de desafío:\n",
        "- [salty.py](https://cryptohack.org/static/challenges/salty_9854bdcadc3f8b8f58008a24d392c1bf.py)\n",
        "- [output.txt](https://cryptohack.org/static/challenges/output_95f558e889cc66920c24a961f1fb8181.txt)"
      ],
      "metadata": {
        "id": "v1Se2oU-eyBU"
      }
    },
    {
      "cell_type": "code",
      "source": [
        "!pip3 install pycryptodome\n",
        "\n",
        "from Crypto.Util.number import long_to_bytes\n",
        "\n",
        "n = 110581795715958566206600392161360212579669637391437097703685154237017351570464767725324182051199901920318211290404777259728923614917211291562555864753005179326101890427669819834642007924406862482343614488768256951616086287044725034412802176312273081322195866046098595306261781788276570920467840172004530873767\n",
        "e = 1\n",
        "ct = 44981230718212183604274785925793145442655465025264554046028251311164494127485\n",
        "\n",
        "long_to_bytes(ct)"
      ],
      "metadata": {
        "id": "Y2CDsbPLe-c3"
      },
      "execution_count": null,
      "outputs": []
    },
    {
      "cell_type": "markdown",
      "source": [
        "## Modulus Inutilis"
      ],
      "metadata": {
        "id": "_BJoxS2WhUI0"
      }
    },
    {
      "cell_type": "markdown",
      "source": [
        "¡Mis números primos deberían ser más que suficientes ahora!\n",
        "\n",
        "Archivos del desafío:\n",
        "- [modulus_inutilis.py](https://cryptohack.org/static/challenges/modulus_inutilis_d2e0022b0165d99403eafeb0bea01231.py)\n",
        "- [output.txt](https://cryptohack.org/static/challenges/output_30cff153b7432055fc947fc5abdb57d3.txt)"
      ],
      "metadata": {
        "id": "77ISYnS-hXVL"
      }
    },
    {
      "cell_type": "code",
      "source": [
        "!pip3 install pycryptodome\n",
        "\n",
        "from Crypto.Util.number import long_to_bytes\n",
        "import sympy\n",
        "\n",
        "n = 17258212916191948536348548470938004244269544560039009244721959293554822498047075403658429865201816363311805874117705688359853941515579440852166618074161313773416434156467811969628473425365608002907061241714688204565170146117869742910273064909154666642642308154422770994836108669814632309362483307560217924183202838588431342622551598499747369771295105890359290073146330677383341121242366368309126850094371525078749496850520075015636716490087482193603562501577348571256210991732071282478547626856068209192987351212490642903450263288650415552403935705444809043563866466823492258216747445926536608548665086042098252335883\n",
        "e = 3\n",
        "ct = 243251053617903760309941844835411292373350655973075480264001352919865180151222189820473358411037759381328642957324889519192337152355302808400638052620580409813222660643570085177957\n",
        "\n",
        "long_to_bytes(int(sympy.cbrt(ct)))"
      ],
      "metadata": {
        "id": "uX7CsFSXhjNs"
      },
      "execution_count": null,
      "outputs": []
    },
    {
      "cell_type": "markdown",
      "source": [
        "## Everything is Big"
      ],
      "metadata": {
        "id": "xSuqwQHAvfhu"
      }
    },
    {
      "cell_type": "markdown",
      "source": [
        "Tenemos una supercomputadora en el trabajo, así que me aseguré de que mi cifrado sea seguro eligiendo números enormes.\n",
        "\n",
        "Archivos del desafío:\n",
        "- [source.py](https://cryptohack.org/static/challenges/source_a9eaeb4b534011e36229bf45be4ea455.py)\n",
        "- [output.txt](https://cryptohack.org/static/challenges/output_1884d0ba92d19ad074549e174cdf5a70.txt)"
      ],
      "metadata": {
        "id": "CyZ3C-A4viU3"
      }
    },
    {
      "cell_type": "code",
      "source": [
        "!pip3 install pycryptodome\n",
        "!pip3 install factordb-python\n",
        "\n",
        "from factordb.factordb import FactorDB\n",
        "from Crypto.Util.number import long_to_bytes\n",
        "\n",
        "N = 0xb8af3d3afb893a602de4afe2a29d7615075d1e570f8bad8ebbe9b5b9076594cf06b6e7b30905b6420e950043380ea746f0a14dae34469aa723e946e484a58bcd92d1039105871ffd63ffe64534b7d7f8d84b4a569723f7a833e6daf5e182d658655f739a4e37bd9f4a44aff6ca0255cda5313c3048f56eed5b21dc8d88bf5a8f8379eac83d8523e484fa6ae8dbcb239e65d3777829a6903d779cd2498b255fcf275e5f49471f35992435ee7cade98c8e82a8beb5ce1749349caa16759afc4e799edb12d299374d748a9e3c82e1cc983cdf9daec0a2739dadcc0982c1e7e492139cbff18c5d44529407edfd8e75743d2f51ce2b58573fea6fbd4fe25154b9964d\n",
        "e = 0x9ab58dbc8049b574c361573955f08ea69f97ecf37400f9626d8f5ac55ca087165ce5e1f459ef6fa5f158cc8e75cb400a7473e89dd38922ead221b33bc33d6d716fb0e4e127b0fc18a197daf856a7062b49fba7a86e3a138956af04f481b7a7d481994aeebc2672e500f3f6d8c581268c2cfad4845158f79c2ef28f242f4fa8f6e573b8723a752d96169c9d885ada59cdeb6dbe932de86a019a7e8fc8aeb07748cfb272bd36d94fe83351252187c2e0bc58bb7a0a0af154b63397e6c68af4314601e29b07caed301b6831cf34caa579eb42a8c8bf69898d04b495174b5d7de0f20cf2b8fc55ed35c6ad157d3e7009f16d6b61786ee40583850e67af13e9d25be3\n",
        "c = 0x3f984ff5244f1836ed69361f29905ca1ae6b3dcf249133c398d7762f5e277919174694293989144c9d25e940d2f66058b2289c75d1b8d0729f9a7c4564404a5fd4313675f85f31b47156068878e236c5635156b0fa21e24346c2041ae42423078577a1413f41375a4d49296ab17910ae214b45155c4570f95ca874ccae9fa80433a1ab453cbb28d780c2f1f4dc7071c93aff3924d76c5b4068a0371dff82531313f281a8acadaa2bd5078d3ddcefcb981f37ff9b8b14c7d9bf1accffe7857160982a2c7d9ee01d3e82265eec9c7401ecc7f02581fd0d912684f42d1b71df87a1ca51515aab4e58fab4da96e154ea6cdfb573a71d81b2ea4a080a1066e1bc3474\n",
        "\n",
        "int_N = int(hex(N).encode(), 16)\n",
        "int_e = int(hex(e).encode(), 16)\n",
        "\n",
        "factors = FactorDB(int_N)\n",
        "factors.get_factor_list()\n",
        "factors.connect()\n",
        "factors_numbers = factors.get_factor_list()\n",
        "\n",
        "totient = (factors_numbers[0] - 1 ) * (factors_numbers[1] - 1)\n",
        "\n",
        "d = pow(int_e, -1, totient)\n",
        "\n",
        "long_to_bytes(pow(c, d, int_N))"
      ],
      "metadata": {
        "id": "_Xreq4vbwBqO"
      },
      "execution_count": null,
      "outputs": []
    }
  ]
}