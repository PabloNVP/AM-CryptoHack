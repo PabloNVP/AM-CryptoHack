{
  "nbformat": 4,
  "nbformat_minor": 0,
  "metadata": {
    "colab": {
      "provenance": [],
      "collapsed_sections": [
        "w_Syr0eRqRJB",
        "D4-zp87tntt1",
        "Hen6sfPIpADX"
      ]
    },
    "kernelspec": {
      "name": "python3",
      "display_name": "Python 3"
    },
    "language_info": {
      "name": "python"
    }
  },
  "cells": [
    {
      "cell_type": "markdown",
      "source": [
        "# Starter"
      ],
      "metadata": {
        "id": "rVGDgAFUqOoc"
      }
    },
    {
      "cell_type": "markdown",
      "source": [
        "## Modular Exponentiation"
      ],
      "metadata": {
        "id": "w_Syr0eRqRJB"
      }
    },
    {
      "cell_type": "markdown",
      "source": [
        "Todas las operaciones en RSA implican [exponenciación modular](https://es.wikipedia.org/wiki/Exponenciaci%C3%B3n_modular).\n",
        "\n",
        "La exponenciación modular es una operación que se utiliza ampliamente en criptografía y normalmente se escribe así: `2^10 mod 17`\n",
        "\n",
        "Puedes pensar en esto como elevar un número a una determinada potencia (`2^10 = 1024`) y luego tomar el resto de la división por otro número (`1024 mod 17 = 4`). En Python hay un operador integrado para realizar esta operación: `pow(base, exponente, módulo)`.\n",
        "\n",
        "En RSA, la exponenciación modular, junto con el problema de la factorización prima, nos ayuda a construir una \"[función trampa](https://en.wikipedia.org/wiki/Trapdoor_function)\". Esta es una función que es fácil de calcular en una dirección, pero difícil de hacer en sentido inverso a menos que tengas la información correcta. Nos permite cifrar un mensaje, y solo la persona con la clave puede realizar la operación inversa para descifrarlo.\n",
        "\n",
        "Para agarrar la bandera, encuentra la solución a `101^17 mod 22663`"
      ],
      "metadata": {
        "id": "rSU62U1YqS_B"
      }
    },
    {
      "cell_type": "code",
      "execution_count": null,
      "metadata": {
        "id": "8Nf9rcocqLnA"
      },
      "outputs": [],
      "source": [
        "pow(101, 17, 22663)"
      ]
    },
    {
      "cell_type": "markdown",
      "source": [
        "## Public Keys"
      ],
      "metadata": {
        "id": "D4-zp87tntt1"
      }
    },
    {
      "cell_type": "markdown",
      "source": [
        "El cifrado RSA es una exponenciación modular de un mensaje con un exponente `e` y un módulo `N`, que normalmente es un producto de dos primos: `N=p⋅q`.\n",
        "\n",
        "Juntos, el exponente y el módulo forman una \"clave pública\" RSA `(N,e)`. El valor más común para `e` es `0x10001` o `65537`.\n",
        "\n",
        "\"Cifre\" el número `12` utilizando el exponente `e=65537` y los primos `p=17` y `q=23`. ¿Qué número obtiene como texto cifrado?"
      ],
      "metadata": {
        "id": "y6318E_8nuVu"
      }
    },
    {
      "cell_type": "code",
      "source": [
        "e=65537\n",
        "p=17\n",
        "q=23\n",
        "\n",
        "pow(12, e, p*q)"
      ],
      "metadata": {
        "id": "kabsNbHnoOp2"
      },
      "execution_count": null,
      "outputs": []
    },
    {
      "cell_type": "markdown",
      "source": [
        "## Euler's Totient"
      ],
      "metadata": {
        "id": "Hen6sfPIpADX"
      }
    },
    {
      "cell_type": "markdown",
      "source": [
        "El RSA se basa en la dificultad de la factorización del módulo `N`. Si se pueden deducir los factores primos, entonces podemos calcular el [totiente de Euler](https://leimao.github.io/article/RSA-Algorithm/) de `N` y así descifrar el texto cifrado.\n",
        "\n",
        "Dado `N=p⋅q` y dos primos:\n",
        "\n",
        "```\n",
        "p = 857504083339712752489993810777\n",
        "q = 1029224947942998075080348647219\n",
        "```\n",
        "\n",
        "¿Cuál es el totiente de Euler `ϕ(N)`?\n",
        "\n"
      ],
      "metadata": {
        "id": "VSvWyKYcpC7Z"
      }
    },
    {
      "cell_type": "code",
      "source": [
        "p = 857504083339712752489993810777\n",
        "q = 1029224947942998075080348647219\n",
        "\n",
        "QN = (p-1)*(q-1)\n",
        "QN"
      ],
      "metadata": {
        "id": "VrWJ2__-pzkG"
      },
      "execution_count": null,
      "outputs": []
    },
    {
      "cell_type": "markdown",
      "source": [
        "## Private Keys"
      ],
      "metadata": {
        "id": "oGSS1m8B2xFK"
      }
    },
    {
      "cell_type": "markdown",
      "source": [
        "La clave privada `d` se utiliza para descifrar textos cifrados creados con la clave pública correspondiente (también se utiliza para \"firmar\" un mensaje, pero llegaremos a eso más adelante).\n",
        "\n",
        "La clave privada es la pieza de información secreta, o \"trampilla\", que nos permite invertir rápidamente la función de cifrado. Si RSA está bien implementado, si no tienes la clave privada, la forma más rápida de descifrar el texto cifrado es factorizar el módulo, lo que es muy difícil de hacer para números enteros grandes.\n",
        "\n",
        "En RSA, la clave privada es el [inverso multiplicativo modular](https://es.wikipedia.org/wiki/Inverso_multiplicativo_(aritm%C3%A9tica_modular)) del exponente `e` módulo `ϕ(N)`, el tociente de Euler de `N`.\n",
        "\n",
        "Dados los dos primos:\n",
        "\n",
        "```\n",
        "p = 857504083339712752489993810777\n",
        "q = 1029224947942998075080348647219\n",
        "```\n",
        "\n",
        "y el exponente `e=65537`, ¿cuál es la clave privada `d ≡ e^(-1) mod ϕ(N)`?\n",
        "\n",
        "\n",
        "\n"
      ],
      "metadata": {
        "id": "s4DzjEAe22bO"
      }
    },
    {
      "cell_type": "code",
      "source": [
        "p = 857504083339712752489993810777\n",
        "q = 1029224947942998075080348647219\n",
        "e = 65537\n",
        "\n",
        "d = pow(e, -1, (p-1)*(q-1))\n",
        "d"
      ],
      "metadata": {
        "id": "MF8jfr_Q30VN"
      },
      "execution_count": null,
      "outputs": []
    },
    {
      "cell_type": "markdown",
      "source": [
        "## RSA Decryption"
      ],
      "metadata": {
        "id": "pyTCe-k_Byjp"
      }
    },
    {
      "cell_type": "markdown",
      "source": [
        "He cifrado un número secreto solo para tus ojos usando tus parámetros de clave pública:\n",
        "\n",
        "```\n",
        "N = 882564595536224140639625987659416029426239230804614613279163\n",
        "e = 65537\n",
        "```\n",
        "\n",
        "Utilice la clave privada que encontró para estos parámetros en el desafío anterior para descifrar este texto cifrado:\n",
        "\n",
        "```\n",
        "c = 77578995801157823671636298847186723593814843845525223303932\n",
        "```\n",
        "\n",
        "\n",
        "\n"
      ],
      "metadata": {
        "id": "buHbjWkHBzR8"
      }
    },
    {
      "cell_type": "code",
      "source": [
        "p = 857504083339712752489993810777 # Desafio anterior\n",
        "q = 1029224947942998075080348647219 # Desafio anterior\n",
        "N = 882564595536224140639625987659416029426239230804614613279163\n",
        "e = 65537\n",
        "c = 77578995801157823671636298847186723593814843845525223303932\n",
        "\n",
        "d = pow(e, -1, (p-1)*(q-1)) # Desafio anterior\n",
        "\n",
        "pow(c, d, N)"
      ],
      "metadata": {
        "id": "meYrnS7vCC2k"
      },
      "execution_count": null,
      "outputs": []
    }
  ]
}