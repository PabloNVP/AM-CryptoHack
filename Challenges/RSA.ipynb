{
  "nbformat": 4,
  "nbformat_minor": 0,
  "metadata": {
    "colab": {
      "provenance": []
    },
    "kernelspec": {
      "name": "python3",
      "display_name": "Python 3"
    },
    "language_info": {
      "name": "python"
    }
  },
  "cells": [
    {
      "cell_type": "markdown",
      "source": [
        "# Starter"
      ],
      "metadata": {
        "id": "rVGDgAFUqOoc"
      }
    },
    {
      "cell_type": "markdown",
      "source": [
        "## Modular Exponentiation"
      ],
      "metadata": {
        "id": "w_Syr0eRqRJB"
      }
    },
    {
      "cell_type": "markdown",
      "source": [
        "Todas las operaciones en RSA implican [exponenciación modular](https://es.wikipedia.org/wiki/Exponenciaci%C3%B3n_modular).\n",
        "\n",
        "La exponenciación modular es una operación que se utiliza ampliamente en criptografía y normalmente se escribe así: `2^10 mod 17`\n",
        "\n",
        "Puedes pensar en esto como elevar un número a una determinada potencia (`2^10 = 1024`) y luego tomar el resto de la división por otro número (`1024 mod 17 = 4`). En Python hay un operador integrado para realizar esta operación: `pow(base, exponente, módulo)`.\n",
        "\n",
        "En RSA, la exponenciación modular, junto con el problema de la factorización prima, nos ayuda a construir una \"[función trampa](https://en.wikipedia.org/wiki/Trapdoor_function)\". Esta es una función que es fácil de calcular en una dirección, pero difícil de hacer en sentido inverso a menos que tengas la información correcta. Nos permite cifrar un mensaje, y solo la persona con la clave puede realizar la operación inversa para descifrarlo.\n",
        "\n",
        "Para agarrar la bandera, encuentra la solución a `101^17 mod 22663`"
      ],
      "metadata": {
        "id": "rSU62U1YqS_B"
      }
    },
    {
      "cell_type": "code",
      "execution_count": null,
      "metadata": {
        "id": "8Nf9rcocqLnA"
      },
      "outputs": [],
      "source": [
        "pow(101, 17, 22663)"
      ]
    }
  ]
}