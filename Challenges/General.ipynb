{
  "nbformat": 4,
  "nbformat_minor": 0,
  "metadata": {
    "colab": {
      "provenance": []
    },
    "kernelspec": {
      "name": "python3",
      "display_name": "Python 3"
    },
    "language_info": {
      "name": "python"
    }
  },
  "cells": [
    {
      "cell_type": "markdown",
      "source": [
        "# Encoding\n"
      ],
      "metadata": {
        "id": "WT0N8EN5VCFf"
      }
    },
    {
      "cell_type": "markdown",
      "source": [
        "ASCII es un estándar de codificación de 7 bits que permite la representación de texto utilizando números enteros del 0 al 127.\n",
        "\n",
        "Usando la siguiente matriz de enteros, convierta los números a sus caracteres ASCII correspondientes para obtener una bandera.\n",
        "\n",
        "```\n",
        "[99, 114, 121, 112, 116, 111, 123, 65, 83, 67, 73, 73, 95, 112, 114, 49, 110, 116, 52, 98, 108, 51, 125]\n",
        "```\n",
        "\n",
        "> En Python, la función `chr()` se puede utilizar para convertir un número ordinal ASCII en un carácter (la función `ord()` hace lo contrario).\n",
        "\n",
        "\n"
      ],
      "metadata": {
        "id": "txfQm_HSVSEc"
      }
    },
    {
      "cell_type": "code",
      "execution_count": null,
      "metadata": {
        "colab": {
          "base_uri": "https://localhost:8080/"
        },
        "id": "gyelUotNU-c4",
        "outputId": "6c9dc519-526f-4959-a794-9c8d9482a59a"
      },
      "outputs": [
        {
          "output_type": "stream",
          "name": "stdout",
          "text": [
            "crypto{ASCII_pr1nt4bl3}\n"
          ]
        }
      ],
      "source": [
        "array = [99, 114, 121, 112, 116, 111, 123, 65, 83, 67, 73, 73, 95, 112, 114, 49, 110, 116, 52, 98, 108, 51, 125]\n",
        "\n",
        "print(\"\".join(chr(c) for c in array))"
      ]
    },
    {
      "cell_type": "markdown",
      "source": [
        "# Hex"
      ],
      "metadata": {
        "id": "AA2i5mja-vvt"
      }
    },
    {
      "cell_type": "markdown",
      "source": [
        "Cuando ciframos algo, el texto cifrado resultante suele tener bytes que no son caracteres ASCII imprimibles. Si queremos compartir nuestros datos cifrados, es común codificarlos en algo más fácil de usar y portátil en diferentes sistemas.\n",
        "\n",
        "El hexadecimal se puede utilizar de tal manera para representar cadenas ASCII.\n",
        "Primero, cada letra se convierte en un número ordinal según la tabla ASCII (como en el desafío anterior). Luego, los números decimales se convierten a números de base 16, también conocidos como hexadecimales. Los números se pueden combinar entre sí, en una larga cadena hexadecimal.\n",
        "\n",
        "A continuación se incluye una bandera codificada como una cadena hexadecimal.\n",
        "Decodifica esto nuevamente en bytes para obtener la bandera.\n",
        "\n",
        "```\n",
        "63727970746f7b596f755f77696c6c5f62655f776f726b696e675f776974685f6865785f737472696e67735f615f6c6f747d\n",
        "```\n",
        "\n",
        "> En Python, la función `bytes.fromhex()` se puede utilizar para convertir hexadecimal a bytes. Se puede invocar el método de instancia `.hex()` en cadenas de bytes para obtener la representación hexadecimal.\n",
        "\n",
        "Recursos:\n",
        "  - [ASCII table](https://www.rapidtables.com/code/text/ascii-table.html)\n",
        "  - [Wikipedia: Hexadecimal (Español)](https://es.wikipedia.org/wiki/Sistema_hexadecimal)"
      ],
      "metadata": {
        "id": "UsWOi5FF-y4m"
      }
    },
    {
      "cell_type": "code",
      "source": [
        "hex = \"63727970746f7b596f755f77696c6c5f62655f776f726b696e675f776974685f6865785f737472696e67735f615f6c6f747d\"\n",
        "print(bytes.fromhex(hex))"
      ],
      "metadata": {
        "id": "5ufzR_Uo_pL7"
      },
      "execution_count": null,
      "outputs": []
    },
    {
      "cell_type": "markdown",
      "source": [
        "# Base64"
      ],
      "metadata": {
        "id": "99DE9IU8rv4N"
      }
    },
    {
      "cell_type": "markdown",
      "source": [
        "Otro esquema de codificación común es Base64, que nos permite representar datos binarios como una cadena ASCII utilizando un alfabeto de 64 caracteres. Un carácter de una cadena Base64 codifica 6 dígitos binarios (bits), por lo que 4 caracteres de Base64 codifican tres bytes de 8 bits.\n",
        "\n",
        "Base64 se usa más comúnmente en línea, por lo que los datos binarios, como imágenes, se pueden incluir fácilmente en archivos HTML o CSS.\n",
        "\n",
        "Tome la siguiente cadena hexadecimal, decodifíquela en bytes y luego codifíquela en Base64.\n",
        "\n",
        "```\n",
        "72bca9b68fc16ac7beeb8f849dca1d8a783e8acf9679bf9269f7bf\n",
        "```\n",
        "\n",
        "> En Python, después de importar el módulo base64 con import base64, puede usar la función base64.b64encode(). Recuerde decodificar el hexadecimal primero como lo indica la descripción del desafío.\n",
        "\n"
      ],
      "metadata": {
        "id": "3XaYJr8JrxWq"
      }
    },
    {
      "cell_type": "code",
      "source": [
        "import base64 as base64\n",
        "hex = \"72bca9b68fc16ac7beeb8f849dca1d8a783e8acf9679bf9269f7bf\"\n",
        "print(base64.b64encode(bytes.fromhex(hex)))"
      ],
      "metadata": {
        "id": "6FkTwDFOsJOC"
      },
      "execution_count": null,
      "outputs": []
    }
  ]
}