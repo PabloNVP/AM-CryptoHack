{
  "nbformat": 4,
  "nbformat_minor": 0,
  "metadata": {
    "colab": {
      "provenance": [],
      "collapsed_sections": [
        "WT0N8EN5VCFf",
        "-5xCkaApeV4l",
        "AA2i5mja-vvt",
        "99DE9IU8rv4N",
        "azVZzoorCdwA",
        "lkBJdXbDEXbx"
      ]
    },
    "kernelspec": {
      "name": "python3",
      "display_name": "Python 3"
    },
    "language_info": {
      "name": "python"
    }
  },
  "cells": [
    {
      "cell_type": "markdown",
      "source": [
        "# Encoding\n"
      ],
      "metadata": {
        "id": "WT0N8EN5VCFf"
      }
    },
    {
      "cell_type": "markdown",
      "source": [
        "## ASCII"
      ],
      "metadata": {
        "id": "-5xCkaApeV4l"
      }
    },
    {
      "cell_type": "markdown",
      "source": [
        "ASCII es un estándar de codificación de 7 bits que permite la representación de texto utilizando números enteros del 0 al 127.\n",
        "\n",
        "Usando la siguiente matriz de enteros, convierta los números a sus caracteres ASCII correspondientes para obtener una bandera.\n",
        "\n",
        "```\n",
        "[99, 114, 121, 112, 116, 111, 123, 65, 83, 67, 73, 73, 95, 112, 114, 49, 110, 116, 52, 98, 108, 51, 125]\n",
        "```\n",
        "\n",
        "> En Python, la función `chr()` se puede utilizar para convertir un número ordinal ASCII en un carácter (la función `ord()` hace lo contrario).\n",
        "\n",
        "\n"
      ],
      "metadata": {
        "id": "txfQm_HSVSEc"
      }
    },
    {
      "cell_type": "code",
      "execution_count": null,
      "metadata": {
        "id": "gyelUotNU-c4"
      },
      "outputs": [],
      "source": [
        "array = [99, 114, 121, 112, 116, 111, 123, 65, 83, 67, 73, 73, 95, 112, 114, 49, 110, 116, 52, 98, 108, 51, 125]\n",
        "\n",
        "print(\"\".join(chr(c) for c in array))"
      ]
    },
    {
      "cell_type": "markdown",
      "source": [
        "## Hex"
      ],
      "metadata": {
        "id": "AA2i5mja-vvt"
      }
    },
    {
      "cell_type": "markdown",
      "source": [
        "Cuando ciframos algo, el texto cifrado resultante suele tener bytes que no son caracteres ASCII imprimibles. Si queremos compartir nuestros datos cifrados, es común codificarlos en algo más fácil de usar y portátil en diferentes sistemas.\n",
        "\n",
        "El hexadecimal se puede utilizar de tal manera para representar cadenas ASCII.\n",
        "Primero, cada letra se convierte en un número ordinal según la tabla ASCII (como en el desafío anterior). Luego, los números decimales se convierten a números de base 16, también conocidos como hexadecimales. Los números se pueden combinar entre sí, en una larga cadena hexadecimal.\n",
        "\n",
        "A continuación se incluye una bandera codificada como una cadena hexadecimal.\n",
        "Decodifica esto nuevamente en bytes para obtener la bandera.\n",
        "\n",
        "```\n",
        "63727970746f7b596f755f77696c6c5f62655f776f726b696e675f776974685f6865785f737472696e67735f615f6c6f747d\n",
        "```\n",
        "\n",
        "> En Python, la función `bytes.fromhex()` se puede utilizar para convertir hexadecimal a bytes. Se puede invocar el método de instancia `.hex()` en cadenas de bytes para obtener la representación hexadecimal.\n",
        "\n",
        "Recursos:\n",
        "  - [ASCII table](https://www.rapidtables.com/code/text/ascii-table.html)\n",
        "  - [Wikipedia: Hexadecimal (Español)](https://es.wikipedia.org/wiki/Sistema_hexadecimal)"
      ],
      "metadata": {
        "id": "UsWOi5FF-y4m"
      }
    },
    {
      "cell_type": "code",
      "source": [
        "hex = \"63727970746f7b596f755f77696c6c5f62655f776f726b696e675f776974685f6865785f737472696e67735f615f6c6f747d\"\n",
        "print(bytes.fromhex(hex))"
      ],
      "metadata": {
        "id": "5ufzR_Uo_pL7"
      },
      "execution_count": null,
      "outputs": []
    },
    {
      "cell_type": "markdown",
      "source": [
        "## Base64"
      ],
      "metadata": {
        "id": "99DE9IU8rv4N"
      }
    },
    {
      "cell_type": "markdown",
      "source": [
        "Otro esquema de codificación común es Base64, que nos permite representar datos binarios como una cadena ASCII utilizando un alfabeto de 64 caracteres. Un carácter de una cadena Base64 codifica 6 dígitos binarios (bits), por lo que 4 caracteres de Base64 codifican tres bytes de 8 bits.\n",
        "\n",
        "Base64 se usa más comúnmente en línea, por lo que los datos binarios, como imágenes, se pueden incluir fácilmente en archivos HTML o CSS.\n",
        "\n",
        "Tome la siguiente cadena hexadecimal, decodifíquela en bytes y luego codifíquela en Base64.\n",
        "\n",
        "```\n",
        "72bca9b68fc16ac7beeb8f849dca1d8a783e8acf9679bf9269f7bf\n",
        "```\n",
        "\n",
        "> En Python, después de importar el módulo base64 con import base64, puede usar la función base64.b64encode(). Recuerde decodificar el hexadecimal primero como lo indica la descripción del desafío.\n",
        "\n"
      ],
      "metadata": {
        "id": "3XaYJr8JrxWq"
      }
    },
    {
      "cell_type": "code",
      "source": [
        "import base64 as base64\n",
        "hex = \"72bca9b68fc16ac7beeb8f849dca1d8a783e8acf9679bf9269f7bf\"\n",
        "print(base64.b64encode(bytes.fromhex(hex)))"
      ],
      "metadata": {
        "id": "6FkTwDFOsJOC"
      },
      "execution_count": null,
      "outputs": []
    },
    {
      "cell_type": "markdown",
      "source": [
        "## Bytes and Big Integers"
      ],
      "metadata": {
        "id": "azVZzoorCdwA"
      }
    },
    {
      "cell_type": "markdown",
      "source": [
        "Los sistemas criptográficos como RSA funcionan con números, pero los mensajes están compuestos de caracteres. ¿Cómo debemos convertir nuestros mensajes en números para poder aplicar operaciones matemáticas?\n",
        "\n",
        "La forma más común es tomar los bytes ordinales del mensaje, convertirlos en hexadecimales y concatenarlos. Esto se puede interpretar como un número de base 16/hexadecimal y también se puede representar en base 10/decimal.\n",
        "\n",
        "Para ilustrarlo:\n",
        "```\n",
        "message: HELLO\n",
        "ascii bytes: [72, 69, 76, 76, 79]\n",
        "hex bytes: [0x48, 0x45, 0x4c, 0x4c, 0x4f]\n",
        "base-16: 0x48454c4c4f\n",
        "base-10: 310400273487\n",
        "```\n",
        "\n",
        "> La biblioteca PyCryptodome de Python implementa esto con los métodos `bytes_to_long()` y `long_to_bytes()`. Primero deberá instalar PyCryptodome e importarlo con `from Crypto.Util.number import *`. Para obtener más detalles, consulte las [preguntas frecuentes](https://cryptohack.org/faq/#install).\n",
        "\n",
        "Convierte el siguiente entero nuevamente en un mensaje:\n",
        "\n",
        "> 11515195063862318899931685488813747395775516287289682636499965282714637259206269\n",
        "\n",
        "\n",
        "\n"
      ],
      "metadata": {
        "id": "TEjVNxITEa0g"
      }
    },
    {
      "cell_type": "code",
      "source": [
        "!pip install pycryptodome\n",
        "from Crypto.Util.number import *\n",
        "\n",
        "big_int = 11515195063862318899931685488813747395775516287289682636499965282714637259206269\n",
        "print(long_to_bytes(big_int))"
      ],
      "metadata": {
        "id": "Tcgic59m3heF",
        "colab": {
          "base_uri": "https://localhost:8080/"
        },
        "outputId": "8dd7e4e3-e703-4720-9e4f-53c8ac17b068"
      },
      "execution_count": null,
      "outputs": [
        {
          "output_type": "stream",
          "name": "stdout",
          "text": [
            "Collecting pycryptodome\n",
            "  Downloading pycryptodome-3.21.0-cp36-abi3-manylinux_2_17_x86_64.manylinux2014_x86_64.whl.metadata (3.4 kB)\n",
            "Downloading pycryptodome-3.21.0-cp36-abi3-manylinux_2_17_x86_64.manylinux2014_x86_64.whl (2.3 MB)\n",
            "\u001b[?25l   \u001b[90m━━━━━━━━━━━━━━━━━━━━━━━━━━━━━━━━━━━━━━━━\u001b[0m \u001b[32m0.0/2.3 MB\u001b[0m \u001b[31m?\u001b[0m eta \u001b[36m-:--:--\u001b[0m\r\u001b[2K   \u001b[91m━━━━━━━━━━━━━━━━━━━━━━━━━━\u001b[0m\u001b[91m╸\u001b[0m\u001b[90m━━━━━━━━━━━━━\u001b[0m \u001b[32m1.5/2.3 MB\u001b[0m \u001b[31m44.4 MB/s\u001b[0m eta \u001b[36m0:00:01\u001b[0m\r\u001b[2K   \u001b[90m━━━━━━━━━━━━━━━━━━━━━━━━━━━━━━━━━━━━━━━━\u001b[0m \u001b[32m2.3/2.3 MB\u001b[0m \u001b[31m33.1 MB/s\u001b[0m eta \u001b[36m0:00:00\u001b[0m\n",
            "\u001b[?25hInstalling collected packages: pycryptodome\n",
            "Successfully installed pycryptodome-3.21.0\n",
            "b'crypto{3nc0d1n6_4ll_7h3_w4y_d0wn}'\n"
          ]
        }
      ]
    },
    {
      "cell_type": "markdown",
      "source": [
        "## Encoding Challenge"
      ],
      "metadata": {
        "id": "lkBJdXbDEXbx"
      }
    },
    {
      "cell_type": "markdown",
      "source": [
        "Ahora que ya conoces las distintas codificaciones que encontrarás, veamos cómo automatizarlas.\n",
        "\n",
        "¿Puedes superar los 100 niveles para obtener la bandera?\n",
        "\n",
        "El archivo `13377.py` adjunto a continuación es el código fuente de lo que se está ejecutando en el servidor. El archivo `pwntools_example.py` proporciona el inicio de una solución.\n",
        "\n",
        "Para obtener más información sobre cómo conectarse a desafíos interactivos, consulta las [preguntas frecuentes](https://cryptohack.org/faq/#netcat). ¡No dudes en pasar directamente a la criptografía si no estás de humor para un desafío de codificación!\n",
        "\n",
        "> Si desea ejecutar y probar el desafío localmente, consulte las preguntas frecuentes para descargar el módulo `utils.listener`.\n",
        "\n",
        "Conéctese en `socket.cryptohack.org 13377`\n",
        "\n",
        "Archivos de desafío:\n",
        "- [13377.py](https://cryptohack.org/static/challenges/13377_86793614535c47dea371d2f0e406dbd9.py)\n",
        "- [pwntools_example.py](https://cryptohack.org/static/challenges/pwntools_example_f93ca6ccef2def755aa8f6d9aa6e9c5b.py)\n",
        "\n",
        "\n",
        "\n"
      ],
      "metadata": {
        "id": "Xu9sVdlHCjEs"
      }
    },
    {
      "cell_type": "code",
      "source": [
        "#!/usr/bin/env python3\n",
        "!pip install pycryptodome\n",
        "!pip install utils\n",
        "from Crypto.Util.number import bytes_to_long, long_to_bytes\n",
        "from utils import listener # this is cryptohack's server-side module and not part of python\n",
        "import base64\n",
        "import codecs\n",
        "import random\n",
        "\n",
        "FLAG = \"crypto{????????????????????}\"\n",
        "ENCODINGS = [\n",
        "    \"base64\",\n",
        "    \"hex\",\n",
        "    \"rot13\",\n",
        "    \"bigint\",\n",
        "    \"utf-8\",\n",
        "]\n",
        "with open('/usr/share/dict/words') as f:\n",
        "    WORDS = [line.strip().replace(\"'\", \"\") for line in f.readlines()]\n",
        "\n",
        "\n",
        "class Challenge():\n",
        "    def __init__(self):\n",
        "        self.no_prompt = True # Immediately send data from the server without waiting for user input\n",
        "        self.challenge_words = \"\"\n",
        "        self.stage = 0\n",
        "\n",
        "    def create_level(self):\n",
        "        self.stage += 1\n",
        "        self.challenge_words = \"_\".join(random.choices(WORDS, k=3))\n",
        "        encoding = random.choice(ENCODINGS)\n",
        "\n",
        "        if encoding == \"base64\":\n",
        "            encoded = base64.b64encode(self.challenge_words.encode()).decode() # wow so encode\n",
        "        elif encoding == \"hex\":\n",
        "            encoded = self.challenge_words.encode().hex()\n",
        "        elif encoding == \"rot13\":\n",
        "            encoded = codecs.encode(self.challenge_words, 'rot_13')\n",
        "        elif encoding == \"bigint\":\n",
        "            encoded = hex(bytes_to_long(self.challenge_words.encode()))\n",
        "        elif encoding == \"utf-8\":\n",
        "            encoded = [ord(b) for b in self.challenge_words]\n",
        "\n",
        "        return {\"type\": encoding, \"encoded\": encoded}\n",
        "\n",
        "    #\n",
        "    # This challenge function is called on your input, which must be JSON\n",
        "    # encoded\n",
        "    #\n",
        "    def challenge(self, your_input):\n",
        "        if self.stage == 0:\n",
        "            return self.create_level()\n",
        "        elif self.stage == 100:\n",
        "            self.exit = True\n",
        "            return {\"flag\": FLAG}\n",
        "\n",
        "        if self.challenge_words == your_input[\"decoded\"]:\n",
        "            return self.create_level()\n",
        "\n",
        "        return {\"error\": \"Decoding fail\"}\n",
        "\n",
        "\n",
        "import builtins; builtins.Challenge = Challenge # hack to enable challenge to be run locally, see https://cryptohack.org/faq/#listener\n",
        "listener.start_server(port=13377)"
      ],
      "metadata": {
        "id": "f-bfmaqfEJ3w"
      },
      "execution_count": null,
      "outputs": []
    },
    {
      "cell_type": "markdown",
      "source": [
        "# XOR"
      ],
      "metadata": {
        "id": "8hvDWDDNeoRq"
      }
    },
    {
      "cell_type": "markdown",
      "source": [
        "## XOR Starter"
      ],
      "metadata": {
        "id": "xXMLRT3Gey5C"
      }
    },
    {
      "cell_type": "markdown",
      "source": [
        "XOR es un operador bit a bit que devuelve 0 si los bits son iguales y 1 en caso contrario. En los libros de texto, el operador XOR se denota con ⊕, pero en la mayoría de los desafíos y lenguajes de programación verá que se utiliza el signo de intercalación `^` en su lugar.\n",
        "\n",
        "Para números binarios más largos, realizamos la operación XOR bit a bit: `0110 ^ 1010 = 1100`. Podemos realizar la operación XOR de números enteros convirtiendo primero el número entero de decimal a binario. Podemos realizar la operación XOR de cadenas convirtiendo primero cada carácter en el número entero que representa el carácter Unicode.\n",
        "\n",
        "<table width=\"360px\">\n",
        "  <tr align=\"center\">\n",
        "    <th>A</th>\n",
        "    <th>B</th>\n",
        "    <th>Salida</th>\n",
        "  </tr>\n",
        "  <tr align=\"center\">\n",
        "    <td>0</td><td>0</td><td>0</td>\n",
        "  </tr>\n",
        "  <tr align=\"center\">\n",
        "    <td>0</td><td>1</td><td>1</td>\n",
        "  </tr>\n",
        "  <tr align=\"center\">\n",
        "    <td>1</td><td>0</td><td>1</td>\n",
        "  </tr>\n",
        "  <tr align=\"center\">\n",
        "    <td>1</td><td>1</td><td>0</td>\n",
        "  </tr>\n",
        "</table>\n",
        "\n",
        "Dada la cadena `label`, realizamos la operación XOR de cada carácter con el número entero `13`. Convertimos estos números enteros nuevamente en una cadena y enviamos la bandera como `crypto{new_string}`.\n",
        "\n",
        "> La biblioteca `pwntools` de Python tiene una función `xor()` muy útil que puede combinar datos de distintos tipos y longitudes mediante la operación XOR. Pero primero, es posible que quieras implementar tu propia función para resolver este problema.\n",
        "\n",
        "\n"
      ],
      "metadata": {
        "id": "a7yyBRfCe1hU"
      }
    },
    {
      "cell_type": "code",
      "source": [
        "print(\"crypto{\" + \"\".join(chr(ord(c)^13) for c in \"label\") + \"}\")"
      ],
      "metadata": {
        "id": "foVSr3yogSOT"
      },
      "execution_count": null,
      "outputs": []
    }
  ]
}