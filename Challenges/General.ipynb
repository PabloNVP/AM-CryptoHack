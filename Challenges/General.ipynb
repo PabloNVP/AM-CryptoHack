{
  "nbformat": 4,
  "nbformat_minor": 0,
  "metadata": {
    "colab": {
      "provenance": [],
      "collapsed_sections": [
        "WT0N8EN5VCFf",
        "-5xCkaApeV4l",
        "AA2i5mja-vvt",
        "99DE9IU8rv4N",
        "azVZzoorCdwA",
        "lkBJdXbDEXbx",
        "xXMLRT3Gey5C",
        "62b7B0Odo-sN",
        "icnsl3DyAjuv",
        "W_qUWKRYi_FO",
        "toSKhOFYIRsd",
        "2smKogqxGlJI"
      ]
    },
    "kernelspec": {
      "name": "python3",
      "display_name": "Python 3"
    },
    "language_info": {
      "name": "python"
    }
  },
  "cells": [
    {
      "cell_type": "markdown",
      "source": [
        "# Encoding\n"
      ],
      "metadata": {
        "id": "WT0N8EN5VCFf"
      }
    },
    {
      "cell_type": "markdown",
      "source": [
        "## ASCII"
      ],
      "metadata": {
        "id": "-5xCkaApeV4l"
      }
    },
    {
      "cell_type": "markdown",
      "source": [
        "ASCII es un estándar de codificación de 7 bits que permite la representación de texto utilizando números enteros del 0 al 127.\n",
        "\n",
        "Usando la siguiente matriz de enteros, convierta los números a sus caracteres ASCII correspondientes para obtener una bandera.\n",
        "\n",
        "```\n",
        "[99, 114, 121, 112, 116, 111, 123, 65, 83, 67, 73, 73, 95, 112, 114, 49, 110, 116, 52, 98, 108, 51, 125]\n",
        "```\n",
        "\n",
        "> En Python, la función `chr()` se puede utilizar para convertir un número ordinal ASCII en un carácter (la función `ord()` hace lo contrario).\n",
        "\n",
        "\n"
      ],
      "metadata": {
        "id": "txfQm_HSVSEc"
      }
    },
    {
      "cell_type": "code",
      "execution_count": null,
      "metadata": {
        "id": "gyelUotNU-c4"
      },
      "outputs": [],
      "source": [
        "array = [99, 114, 121, 112, 116, 111, 123, 65, 83, 67, 73, 73, 95, 112, 114, 49, 110, 116, 52, 98, 108, 51, 125]\n",
        "\n",
        "print(\"\".join(chr(c) for c in array))"
      ]
    },
    {
      "cell_type": "markdown",
      "source": [
        "## Hex"
      ],
      "metadata": {
        "id": "AA2i5mja-vvt"
      }
    },
    {
      "cell_type": "markdown",
      "source": [
        "Cuando ciframos algo, el texto cifrado resultante suele tener bytes que no son caracteres ASCII imprimibles. Si queremos compartir nuestros datos cifrados, es común codificarlos en algo más fácil de usar y portátil en diferentes sistemas.\n",
        "\n",
        "El hexadecimal se puede utilizar de tal manera para representar cadenas ASCII.\n",
        "Primero, cada letra se convierte en un número ordinal según la tabla ASCII (como en el desafío anterior). Luego, los números decimales se convierten a números de base 16, también conocidos como hexadecimales. Los números se pueden combinar entre sí, en una larga cadena hexadecimal.\n",
        "\n",
        "A continuación se incluye una bandera codificada como una cadena hexadecimal.\n",
        "Decodifica esto nuevamente en bytes para obtener la bandera.\n",
        "\n",
        "```\n",
        "63727970746f7b596f755f77696c6c5f62655f776f726b696e675f776974685f6865785f737472696e67735f615f6c6f747d\n",
        "```\n",
        "\n",
        "> En Python, la función `bytes.fromhex()` se puede utilizar para convertir hexadecimal a bytes. Se puede invocar el método de instancia `.hex()` en cadenas de bytes para obtener la representación hexadecimal.\n",
        "\n",
        "Recursos:\n",
        "  - [ASCII table](https://www.rapidtables.com/code/text/ascii-table.html)\n",
        "  - [Wikipedia: Hexadecimal (Español)](https://es.wikipedia.org/wiki/Sistema_hexadecimal)"
      ],
      "metadata": {
        "id": "UsWOi5FF-y4m"
      }
    },
    {
      "cell_type": "code",
      "source": [
        "hex = \"63727970746f7b596f755f77696c6c5f62655f776f726b696e675f776974685f6865785f737472696e67735f615f6c6f747d\"\n",
        "print(bytes.fromhex(hex))"
      ],
      "metadata": {
        "id": "5ufzR_Uo_pL7"
      },
      "execution_count": null,
      "outputs": []
    },
    {
      "cell_type": "markdown",
      "source": [
        "## Base64"
      ],
      "metadata": {
        "id": "99DE9IU8rv4N"
      }
    },
    {
      "cell_type": "markdown",
      "source": [
        "Otro esquema de codificación común es Base64, que nos permite representar datos binarios como una cadena ASCII utilizando un alfabeto de 64 caracteres. Un carácter de una cadena Base64 codifica 6 dígitos binarios (bits), por lo que 4 caracteres de Base64 codifican tres bytes de 8 bits.\n",
        "\n",
        "Base64 se usa más comúnmente en línea, por lo que los datos binarios, como imágenes, se pueden incluir fácilmente en archivos HTML o CSS.\n",
        "\n",
        "Tome la siguiente cadena hexadecimal, decodifíquela en bytes y luego codifíquela en Base64.\n",
        "\n",
        "```\n",
        "72bca9b68fc16ac7beeb8f849dca1d8a783e8acf9679bf9269f7bf\n",
        "```\n",
        "\n",
        "> En Python, después de importar el módulo base64 con import base64, puede usar la función base64.b64encode(). Recuerde decodificar el hexadecimal primero como lo indica la descripción del desafío.\n",
        "\n"
      ],
      "metadata": {
        "id": "3XaYJr8JrxWq"
      }
    },
    {
      "cell_type": "code",
      "source": [
        "import base64 as base64\n",
        "hex = \"72bca9b68fc16ac7beeb8f849dca1d8a783e8acf9679bf9269f7bf\"\n",
        "print(base64.b64encode(bytes.fromhex(hex)))"
      ],
      "metadata": {
        "id": "6FkTwDFOsJOC"
      },
      "execution_count": null,
      "outputs": []
    },
    {
      "cell_type": "markdown",
      "source": [
        "## Bytes and Big Integers"
      ],
      "metadata": {
        "id": "azVZzoorCdwA"
      }
    },
    {
      "cell_type": "markdown",
      "source": [
        "Los sistemas criptográficos como RSA funcionan con números, pero los mensajes están compuestos de caracteres. ¿Cómo debemos convertir nuestros mensajes en números para poder aplicar operaciones matemáticas?\n",
        "\n",
        "La forma más común es tomar los bytes ordinales del mensaje, convertirlos en hexadecimales y concatenarlos. Esto se puede interpretar como un número de base 16/hexadecimal y también se puede representar en base 10/decimal.\n",
        "\n",
        "Para ilustrarlo:\n",
        "```\n",
        "message: HELLO\n",
        "ascii bytes: [72, 69, 76, 76, 79]\n",
        "hex bytes: [0x48, 0x45, 0x4c, 0x4c, 0x4f]\n",
        "base-16: 0x48454c4c4f\n",
        "base-10: 310400273487\n",
        "```\n",
        "\n",
        "> La biblioteca PyCryptodome de Python implementa esto con los métodos `bytes_to_long()` y `long_to_bytes()`. Primero deberá instalar PyCryptodome e importarlo con `from Crypto.Util.number import *`. Para obtener más detalles, consulte las [preguntas frecuentes](https://cryptohack.org/faq/#install).\n",
        "\n",
        "Convierte el siguiente entero nuevamente en un mensaje:\n",
        "\n",
        "> 11515195063862318899931685488813747395775516287289682636499965282714637259206269\n",
        "\n",
        "\n",
        "\n"
      ],
      "metadata": {
        "id": "TEjVNxITEa0g"
      }
    },
    {
      "cell_type": "code",
      "source": [
        "!pip install pycryptodome\n",
        "from Crypto.Util.number import *\n",
        "\n",
        "big_int = 11515195063862318899931685488813747395775516287289682636499965282714637259206269\n",
        "print(long_to_bytes(big_int))"
      ],
      "metadata": {
        "id": "Tcgic59m3heF"
      },
      "execution_count": null,
      "outputs": []
    },
    {
      "cell_type": "markdown",
      "source": [
        "## Encoding Challenge"
      ],
      "metadata": {
        "id": "lkBJdXbDEXbx"
      }
    },
    {
      "cell_type": "markdown",
      "source": [
        "Ahora que ya conoces las distintas codificaciones que encontrarás, veamos cómo automatizarlas.\n",
        "\n",
        "¿Puedes superar los 100 niveles para obtener la bandera?\n",
        "\n",
        "El archivo `13377.py` adjunto a continuación es el código fuente de lo que se está ejecutando en el servidor. El archivo `pwntools_example.py` proporciona el inicio de una solución.\n",
        "\n",
        "Para obtener más información sobre cómo conectarse a desafíos interactivos, consulta las [preguntas frecuentes](https://cryptohack.org/faq/#netcat). ¡No dudes en pasar directamente a la criptografía si no estás de humor para un desafío de codificación!\n",
        "\n",
        "> Si desea ejecutar y probar el desafío localmente, consulte las preguntas frecuentes para descargar el módulo `utils.listener`.\n",
        "\n",
        "Conéctese en `socket.cryptohack.org 13377`\n",
        "\n",
        "Archivos de desafío:\n",
        "- [13377.py](https://cryptohack.org/static/challenges/13377_86793614535c47dea371d2f0e406dbd9.py)\n",
        "- [pwntools_example.py](https://cryptohack.org/static/challenges/pwntools_example_f93ca6ccef2def755aa8f6d9aa6e9c5b.py)\n",
        "\n",
        "\n",
        "\n"
      ],
      "metadata": {
        "id": "Xu9sVdlHCjEs"
      }
    },
    {
      "cell_type": "code",
      "source": [
        "#!/usr/bin/env python3\n",
        "!pip install pycryptodome\n",
        "!pip install utils\n",
        "from Crypto.Util.number import bytes_to_long, long_to_bytes\n",
        "from utils import listener # this is cryptohack's server-side module and not part of python\n",
        "import base64\n",
        "import codecs\n",
        "import random\n",
        "\n",
        "FLAG = \"crypto{????????????????????}\"\n",
        "ENCODINGS = [\n",
        "    \"base64\",\n",
        "    \"hex\",\n",
        "    \"rot13\",\n",
        "    \"bigint\",\n",
        "    \"utf-8\",\n",
        "]\n",
        "with open('/usr/share/dict/words') as f:\n",
        "    WORDS = [line.strip().replace(\"'\", \"\") for line in f.readlines()]\n",
        "\n",
        "\n",
        "class Challenge():\n",
        "    def __init__(self):\n",
        "        self.no_prompt = True # Immediately send data from the server without waiting for user input\n",
        "        self.challenge_words = \"\"\n",
        "        self.stage = 0\n",
        "\n",
        "    def create_level(self):\n",
        "        self.stage += 1\n",
        "        self.challenge_words = \"_\".join(random.choices(WORDS, k=3))\n",
        "        encoding = random.choice(ENCODINGS)\n",
        "\n",
        "        if encoding == \"base64\":\n",
        "            encoded = base64.b64encode(self.challenge_words.encode()).decode() # wow so encode\n",
        "        elif encoding == \"hex\":\n",
        "            encoded = self.challenge_words.encode().hex()\n",
        "        elif encoding == \"rot13\":\n",
        "            encoded = codecs.encode(self.challenge_words, 'rot_13')\n",
        "        elif encoding == \"bigint\":\n",
        "            encoded = hex(bytes_to_long(self.challenge_words.encode()))\n",
        "        elif encoding == \"utf-8\":\n",
        "            encoded = [ord(b) for b in self.challenge_words]\n",
        "\n",
        "        return {\"type\": encoding, \"encoded\": encoded}\n",
        "\n",
        "    #\n",
        "    # This challenge function is called on your input, which must be JSON\n",
        "    # encoded\n",
        "    #\n",
        "    def challenge(self, your_input):\n",
        "        if self.stage == 0:\n",
        "            return self.create_level()\n",
        "        elif self.stage == 100:\n",
        "            self.exit = True\n",
        "            return {\"flag\": FLAG}\n",
        "\n",
        "        if self.challenge_words == your_input[\"decoded\"]:\n",
        "            return self.create_level()\n",
        "\n",
        "        return {\"error\": \"Decoding fail\"}\n",
        "\n",
        "\n",
        "import builtins; builtins.Challenge = Challenge # hack to enable challenge to be run locally, see https://cryptohack.org/faq/#listener\n",
        "listener.start_server(port=13377)"
      ],
      "metadata": {
        "id": "f-bfmaqfEJ3w"
      },
      "execution_count": null,
      "outputs": []
    },
    {
      "cell_type": "markdown",
      "source": [
        "# XOR"
      ],
      "metadata": {
        "id": "8hvDWDDNeoRq"
      }
    },
    {
      "cell_type": "markdown",
      "source": [
        "## XOR Starter"
      ],
      "metadata": {
        "id": "xXMLRT3Gey5C"
      }
    },
    {
      "cell_type": "markdown",
      "source": [
        "XOR es un operador bit a bit que devuelve 0 si los bits son iguales y 1 en caso contrario. En los libros de texto, el operador XOR se denota con ⊕, pero en la mayoría de los desafíos y lenguajes de programación verá que se utiliza el signo de intercalación `^` en su lugar.\n",
        "\n",
        "Para números binarios más largos, realizamos la operación XOR bit a bit: `0110 ^ 1010 = 1100`. Podemos realizar la operación XOR de números enteros convirtiendo primero el número entero de decimal a binario. Podemos realizar la operación XOR de cadenas convirtiendo primero cada carácter en el número entero que representa el carácter Unicode.\n",
        "\n",
        "<table width=\"360px\">\n",
        "  <tr align=\"center\">\n",
        "    <th>A</th>\n",
        "    <th>B</th>\n",
        "    <th>Salida</th>\n",
        "  </tr>\n",
        "  <tr align=\"center\">\n",
        "    <td>0</td><td>0</td><td>0</td>\n",
        "  </tr>\n",
        "  <tr align=\"center\">\n",
        "    <td>0</td><td>1</td><td>1</td>\n",
        "  </tr>\n",
        "  <tr align=\"center\">\n",
        "    <td>1</td><td>0</td><td>1</td>\n",
        "  </tr>\n",
        "  <tr align=\"center\">\n",
        "    <td>1</td><td>1</td><td>0</td>\n",
        "  </tr>\n",
        "</table>\n",
        "\n",
        "Dada la cadena `label`, realizamos la operación XOR de cada carácter con el número entero `13`. Convertimos estos números enteros nuevamente en una cadena y enviamos la bandera como `crypto{new_string}`.\n",
        "\n",
        "> La biblioteca `pwntools` de Python tiene una función `xor()` muy útil que puede combinar datos de distintos tipos y longitudes mediante la operación XOR. Pero primero, es posible que quieras implementar tu propia función para resolver este problema.\n",
        "\n",
        "\n"
      ],
      "metadata": {
        "id": "a7yyBRfCe1hU"
      }
    },
    {
      "cell_type": "code",
      "source": [
        "print(\"crypto{\" + \"\".join(chr(ord(c)^13) for c in \"label\") + \"}\")"
      ],
      "metadata": {
        "id": "foVSr3yogSOT"
      },
      "execution_count": null,
      "outputs": []
    },
    {
      "cell_type": "markdown",
      "source": [
        "## XOR Properties"
      ],
      "metadata": {
        "id": "62b7B0Odo-sN"
      }
    },
    {
      "cell_type": "markdown",
      "source": [
        "En el último desafío, viste cómo funcionaba XOR a nivel de bits. En este, cubriremos las propiedades de la operación XOR y luego las usaremos para deshacer una cadena de operaciones que han cifrado una bandera. Tener una idea de cómo funciona esto te ayudará mucho cuando ataque sistemas criptográficos reales más adelante, especialmente en la categoría de cifrados de bloques.\n",
        "\n",
        "Hay cuatro propiedades principales que debemos considerar cuando resolvemos desafíos usando el operador XOR\n",
        "```\n",
        "Commutative: A ⊕ B = B ⊕ A\n",
        "Associative: A ⊕ (B ⊕ C) = (A ⊕ B) ⊕ C\n",
        "Identity: A ⊕ 0 = A\n",
        "Self-Inverse: A ⊕ A = 0\n",
        "```\n",
        "Vamos a desglosar esto. Conmutativo significa que el orden de las operaciones XOR no es importante. Asociativo significa que una cadena de operaciones se puede llevar a cabo sin orden (no tenemos que preocuparnos por los corchetes). La identidad es 0, por lo que XOR con 0 \"no hace nada\" y, por último, algo XOR'd consigo mismo devuelve cero.\n",
        "\n",
        "¡Pongamos esto en práctica! A continuación se muestra una serie de resultados donde se han realizado XOR'd de tres claves aleatorias juntas y con el indicador. Utilice las propiedades anteriores para deshacer el cifrado en la línea final para obtener el indicador.\n",
        "```\n",
        "KEY1 = a6c8b6733c9b22de7bc0253266a3867df55acde8635e19c73313\n",
        "KEY2 ^ KEY1 = 37dcb292030faa90d07eec17e3b1c6d8daf94c35d4c9191a5e1e\n",
        "KEY2 ^ KEY3 = c1545756687e7573db23aa1c3452a098b71a7fbf0fddddde5fc1\n",
        "FLAG ^ KEY1 ^ KEY3 ^ KEY2 = 04ee9855208a2cd59091d04767ae47963170d1660df7f56f5faf\n",
        "```\n",
        "> Antes de realizar XOR en estos objetos, asegúrese de decodificarlos de hexadecimal a bytes."
      ],
      "metadata": {
        "id": "P8_ZsbXVpMKe"
      }
    },
    {
      "cell_type": "code",
      "source": [
        "KEY1 = bytes.fromhex(\"a6c8b6733c9b22de7bc0253266a3867df55acde8635e19c73313\")\n",
        "KEY21 = bytes.fromhex(\"37dcb292030faa90d07eec17e3b1c6d8daf94c35d4c9191a5e1e\")\n",
        "KEY2 = bytes( x ^ y for x,y in zip(KEY1, KEY21))\n",
        "KEY23 = bytes.fromhex(\"c1545756687e7573db23aa1c3452a098b71a7fbf0fddddde5fc1\")\n",
        "KEY3 = bytes( x ^ y for x,y in zip(KEY2, KEY23))\n",
        "KEY123 = bytes.fromhex(\"04ee9855208a2cd59091d04767ae47963170d1660df7f56f5faf\")\n",
        "FLAG = bytes( x ^ y ^ w ^ z for x,y,w,z in zip(KEY1, KEY2, KEY3, KEY123))\n",
        "print(FLAG)"
      ],
      "metadata": {
        "id": "9m-YlGtyqSSg"
      },
      "execution_count": null,
      "outputs": []
    },
    {
      "cell_type": "markdown",
      "source": [
        "## Favourite byte"
      ],
      "metadata": {
        "id": "icnsl3DyAjuv"
      }
    },
    {
      "cell_type": "markdown",
      "source": [
        "Para los próximos desafíos, usarás lo que acabas de aprender para resolver algunos acertijos XOR más.\n",
        "\n",
        "He ocultado algunos datos usando XOR con un solo byte, pero ese byte es un secreto. No olvides decodificar primero desde hexadecimal.\n",
        "```\n",
        "73626960647f6b206821204f21254f7d694f7624662065622127234f726927756d\n",
        "```"
      ],
      "metadata": {
        "id": "MBJ716y5Al4r"
      }
    },
    {
      "cell_type": "code",
      "source": [
        "msg = bytes.fromhex(\"73626960647f6b206821204f21254f7d694f7624662065622127234f726927756d\")\n",
        "\n",
        "def decode(msg):\n",
        "  for key in range(256):\n",
        "    try:\n",
        "        msg_decode = bytes([b ^ key for b in msg]).decode('utf-8')\n",
        "        if msg_decode.startswith(\"crypto{\") and msg_decode.endswith(\"}\"):\n",
        "            return msg_decode\n",
        "    except UnicodeDecodeError:\n",
        "        continue\n",
        "  return \"Not found\"\n",
        "\n",
        "print(decode(msg))"
      ],
      "metadata": {
        "id": "gr1ezOj7BMOr"
      },
      "execution_count": null,
      "outputs": []
    },
    {
      "cell_type": "markdown",
      "source": [
        "## You either know, XOR you don't"
      ],
      "metadata": {
        "id": "W_qUWKRYi_FO"
      }
    },
    {
      "cell_type": "markdown",
      "source": [
        "He cifrado la bandera con mi clave secreta, nunca podrás adivinarla.\n",
        "\n",
        "> ¡Recuerda el formato de la bandera y cómo podría ayudarte en este desafío!\n",
        "\n",
        "```\n",
        "0e0b213f26041e480b26217f27342e175d0e070a3c5b103e2526217f27342e175d0e077e263451150104\n",
        "```\n",
        "\n",
        "\n",
        "\n"
      ],
      "metadata": {
        "id": "jjIEr5WAjSw4"
      }
    },
    {
      "cell_type": "code",
      "source": [
        "msg = bytes.fromhex(\"0e0b213f26041e480b26217f27342e175d0e070a3c5b103e2526217f27342e175d0e077e263451150104\")\n",
        "\n",
        "begin_flag = (ord(x) for x in \"crypto{\")\n",
        "begin_key = \"\".join(chr(x^y) for x,y in zip(msg, begin_flag))\n",
        "end_key = chr(msg[-1] ^ ord(\"}\"))\n",
        "key = begin_key + end_key\n",
        "key = (key * (len(msg) // len(key) + 1))[:len(msg)]\n",
        "flag = \"\".join(chr(x^ord(y)) for x,y in zip(msg, key))\n",
        "\n",
        "print(flag)"
      ],
      "metadata": {
        "id": "73R4CCPvjTLJ"
      },
      "execution_count": null,
      "outputs": []
    },
    {
      "cell_type": "markdown",
      "source": [
        "## Lemur XOR"
      ],
      "metadata": {
        "id": "-oeqxh8Tm_2i"
      }
    },
    {
      "cell_type": "markdown",
      "source": [
        "¡He escondido dos imágenes geniales de XOR con la misma clave secreta para que no puedas verlas!\n",
        "\n",
        "> Este desafío requiere realizar un XOR visual entre los bytes RGB de las dos imágenes, no un XOR de todos los bytes de datos de los archivos.\n",
        "\n",
        "Archivos de desafío:\n",
        "* [lemur.png](https://cryptohack.org/static/challenges/lemur_ed66878c338e662d3473f0d98eedbd0d.png)\n",
        "* [flag.png](https://cryptohack.org/static/challenges/flag_7ae18c704272532658c10b5faad06d74.png)"
      ],
      "metadata": {
        "id": "ycdvyD97nBQk"
      }
    },
    {
      "cell_type": "code",
      "source": [
        "from PIL import Image\n",
        "from io import BytesIO\n",
        "import requests\n",
        "\n",
        "def xor_images():\n",
        "    img1 = Image.open(BytesIO(requests.get(\"https://cryptohack.org/static/challenges/lemur_ed66878c338e662d3473f0d98eedbd0d.png\").content))\n",
        "    img2 = Image.open(BytesIO(requests.get(\"https://cryptohack.org/static/challenges/flag_7ae18c704272532658c10b5faad06d74.png\").content))\n",
        "\n",
        "    xor_img = Image.new('RGB', img1.size)\n",
        "\n",
        "    pixeles1 = img1.load()\n",
        "    pixeles2 = img2.load()\n",
        "    xor_pixeles = xor_img.load()\n",
        "\n",
        "    for x in range(img1.width):\n",
        "        for y in range(img1.height):\n",
        "            r1, g1, b1 = pixeles1[x, y]\n",
        "            r2, g2, b2 = pixeles2[x, y]\n",
        "\n",
        "            r_xor = r1 ^ r2\n",
        "            g_xor = g1 ^ g2\n",
        "            b_xor = b1 ^ b2\n",
        "\n",
        "            xor_pixeles[x, y] = (r_xor, g_xor, b_xor)\n",
        "\n",
        "    return xor_img\n",
        "\n",
        "xor_images()"
      ],
      "metadata": {
        "id": "E64k9MxFoLny"
      },
      "execution_count": null,
      "outputs": []
    },
    {
      "cell_type": "markdown",
      "source": [
        "# Mathematics"
      ],
      "metadata": {
        "id": "MMDFcTK9IMML"
      }
    },
    {
      "cell_type": "markdown",
      "source": [
        "## Greatest Common Divisor"
      ],
      "metadata": {
        "id": "toSKhOFYIRsd"
      }
    },
    {
      "cell_type": "markdown",
      "source": [
        "El máximo común divisor (MCD), a veces conocido como máximo común divisor, es el número más grande que divide a dos números enteros positivos `(a,b)`.\n",
        "\n",
        "Para `a=12, b=8` podemos calcular los divisores de `a: {1,2,3,4,6,12}` y los divisores de `b: {1,2,4,8}`. Comparando estos dos, vemos que `mcd⁡(a,b)=4`.\n",
        "\n",
        "Ahora imaginemos que tomamos `a=11, b=17`. Tanto `a` como `b` son números primos. Como un número primo solo tiene a sí mismo y al `1` como divisores, `mcd⁡(a,b)=1`.\n",
        "\n",
        "Decimos que para dos números enteros cualesquiera `a, b`, si `mcd⁡(a,b)=1` entonces `a` y `b` son números enteros coprimos.\n",
        "\n",
        "Si `a` y `b` son primos, también son coprimos. Si `a` es primo y `b<a` entonces `a` y `b` son coprimos.\n",
        "\n",
        "> Pensemos en el caso de `a` primo y `b>a`, ¿por qué no son necesariamente coprimos?\n",
        "\n",
        "Existen muchas herramientas para calcular el MCD de dos números enteros, pero para esta tarea recomendamos consultar el [Algoritmo de Euclides](https://es.wikipedia.org/wiki/Algoritmo_de_Euclides).\n",
        "\n",
        "Intenta codificarlo; son solo un par de líneas. Usa `a=12, b=8` para probarlo.\n",
        "\n",
        "Ahora calcula `mcd⁡(a,b)` para `a=66528, b=52920` e introdúcelo a continuación."
      ],
      "metadata": {
        "id": "sGNa4F_uIp8W"
      }
    },
    {
      "cell_type": "code",
      "source": [
        "def mcd(a, b):\n",
        "  return b if a%b == 0 else mcd(b, a%b)\n",
        "\n",
        "mcd(66528, 52920)"
      ],
      "metadata": {
        "id": "mivyncsRILmc"
      },
      "execution_count": null,
      "outputs": []
    },
    {
      "cell_type": "markdown",
      "source": [
        "## Extended GCD"
      ],
      "metadata": {
        "id": "2smKogqxGlJI"
      }
    },
    {
      "cell_type": "markdown",
      "source": [
        "Sean `a` y `b` números enteros positivos.\n",
        "\n",
        "El algoritmo euclidiano extendido es una forma eficiente de encontrar números enteros `u, v` tales que:\n",
        "```\n",
        "a⋅u+b⋅v=mcd(a,b)\n",
        "```\n",
        "\n",
        "> Más adelante, cuando aprendamos a descifrar textos cifrados RSA, necesitaremos este algoritmo para calcular el inverso modular del exponente público.\n",
        "\n",
        "Usando los dos primos `p=26513,q=32321`, encuentre los números enteros `u, v` tales que:\n",
        "```\n",
        "p⋅u+q⋅v=gcd(p,q)\n",
        "```\n",
        "\n",
        "Ingrese el número más bajo entre `u` y `v` como bandera.\n",
        "\n",
        "> Sabiendo que `p, q` son primos, ¿qué esperarías que fuera `mcd(p,q)`? Para obtener más detalles sobre el algoritmo euclidiano extendido, consulte esta [página](https://web.archive.org/web/20230511143526/http://www-math.ucdenver.edu/~wcherowi/courses/m5410/exeucalg.html)."
      ],
      "metadata": {
        "id": "jwijUvxiGoBc"
      }
    },
    {
      "cell_type": "code",
      "source": [
        "def mcd_extend(a, b):\n",
        "  if a == 0:\n",
        "    return b, 0, 1\n",
        "\n",
        "  gcd, x1, y1 = mcd_extend(b % a, a)\n",
        "  x = y1 - (b // a) * x1\n",
        "  y = x1\n",
        "  return gcd, x, y\n",
        "\n",
        "mcd_extend(26513, 32321)[2]"
      ],
      "metadata": {
        "id": "Wf8kdwTUGoeY"
      },
      "execution_count": null,
      "outputs": []
    },
    {
      "cell_type": "markdown",
      "source": [
        "## Modular Arithmetic 1\n"
      ],
      "metadata": {
        "id": "SEE0szF1DUt1"
      }
    },
    {
      "cell_type": "markdown",
      "source": [
        "Imagínese que se inclina y mira el cuaderno de un criptógrafo. Ves algunas notas al margen:\n",
        "```\n",
        "4 + 9 = 1\n",
        "5 - 7 = 10\n",
        "2 + 3 = 5\n",
        "```\n",
        "770 / 5.000\n",
        "Al principio, podrías pensar que se han vuelto locos. Quizá por eso hay tantas filtraciones de datos hoy en día, pero esto no es más que aritmética modular módulo 12 (aunque con una notación un tanto descuidada).\n",
        "\n",
        "Puede que no lo hayas llamado aritmética modular, pero has estado haciendo este tipo de cálculos desde que aprendiste a decir la hora (mira de nuevo esas ecuaciones y piensa en sumar horas).\n",
        "\n",
        "Formalmente, \"calcular el tiempo\" se describe mediante la teoría de congruencias. Decimos que dos números enteros son congruentes módulo m si `a ≡ b mod m`.\n",
        "\n",
        "Otra forma de decirlo es que cuando dividimos el número entero `a` por `m`, el resto es `b`. Esto te dice que si `m` divide `a` (esto se puede escribir como `m ∣ a`), entonces `a ≡ 0 mod m`.\n",
        "\n",
        "Calcular los siguientes números enteros:\n",
        "```\n",
        "11 ≡ x mod 6\n",
        "8146798528947 ≡ y mod 17\n",
        "```\n",
        "La solución es el menor de los dos números enteros, `(x,y)`, que obtuviste después de reducir por el módulo.\n",
        "\n",
        "\n",
        "\n"
      ],
      "metadata": {
        "id": "gvQ1am2FDbjb"
      }
    },
    {
      "cell_type": "code",
      "source": [
        "11 % 6 if 11 % 6 < 8146798528947 % 17 else 8146798528947 % 17"
      ],
      "metadata": {
        "id": "jHJzQDk6DUIl"
      },
      "execution_count": null,
      "outputs": []
    },
    {
      "cell_type": "markdown",
      "source": [
        "## Modular Arithmetic 2"
      ],
      "metadata": {
        "id": "141R1MGDFqZq"
      }
    },
    {
      "cell_type": "markdown",
      "source": [
        "Continuaremos con el último desafío e imaginaremos que hemos elegido un módulo `p` y nos limitaremos al caso en el que `p` sea primo.\n",
        "\n",
        "Los números enteros módulo `p` definen un campo, denominado `Fp`.\n",
        "\n",
        "> Si el módulo no es primo, el conjunto de números enteros módulo `n` define un anillo.\n",
        "\n",
        "Un cuerpo finito `Fp` es el conjunto de los números enteros `0,1,...,p-1`, y tanto en la suma como en la multiplicación hay elementos inversos `b+` y `b*` para cada elemento `a` en el conjunto, tal que `a+b+=0` y `a⋅b*=1`.\n",
        "\n",
        "> ¡Tenga en cuenta que el elemento de identidad para la suma y la multiplicación es diferente! Esto se debe a que la identidad cuando se actúa con el operador no debe hacer nada: `a+0=a` y `a⋅1=a`.\n",
        "\n",
        "Digamos que elegimos `p=17`. Calcule `3^7 mod 17`. Ahora haz lo mismo pero con `5^17 mod 17`.\n",
        "\n",
        "¿Qué esperaría obtener por `7^16 mod 17`? Intenta calcular eso.\n",
        "\n",
        "Este interesante hecho se conoce como el pequeño teorema de Fermat. Necesitaremos esto (y sus generalizaciones) cuando analicemos la criptografía RSA.\n",
        "\n",
        "Ahora toma el primo `p=65537`. Calcular `273246787654^65536 mod 65537`.\n",
        "\n",
        "¿Necesitabas una calculadora?"
      ],
      "metadata": {
        "id": "_nXqgcOaFv2E"
      }
    },
    {
      "cell_type": "code",
      "source": [
        "def is_prime(n):\n",
        "  if n <= 1:\n",
        "    return False\n",
        "  if n <= 3:\n",
        "    return True\n",
        "  if n % 2 == 0 or n % 3 == 0:\n",
        "    return False\n",
        "\n",
        "  i = 5\n",
        "  while i * i <= n:\n",
        "    if n % i == 0 or n % (i + 2) == 0:\n",
        "      return False\n",
        "    i += 6\n",
        "\n",
        "  return True\n",
        "\n",
        "def fermat(a, p):\n",
        "  if(not is_prime(p)):\n",
        "    raise ValueError(\"El número p debe ser un número primo.\")\n",
        "\n",
        "  return pow(a, p-1, p)\n",
        "\n",
        "fermat(273246787654, 65537)"
      ],
      "metadata": {
        "id": "b_JbJqgJFwyr"
      },
      "execution_count": null,
      "outputs": []
    },
    {
      "cell_type": "markdown",
      "source": [
        "## Modular Inverting"
      ],
      "metadata": {
        "id": "LvV9S6iaF31m"
      }
    },
    {
      "cell_type": "markdown",
      "source": [
        "Como hemos visto, podemos trabajar dentro de un campo finito `Fp`, sumando y multiplicando elementos, y obtener siempre un elemento más del campo.\n",
        "\n",
        "Para todos los elementos `g` en el campo, existe un entero único `d` tal que `g ⋅ d ≡ 1 mod p`.\n",
        "\n",
        "Este es el inverso multiplicativo de `g`.\n",
        "\n",
        "Ejemplo: `7 ⋅ 8 = 56 ≡ 1 mod 11`\n",
        "\n",
        "¿Cuál es el elemento inverso: `d=3−1` tal que `3 ⋅ d ≡ 1 mod 13`?"
      ],
      "metadata": {
        "id": "Bl3bazmyF4iV"
      }
    },
    {
      "cell_type": "code",
      "source": [
        "next((n for n in range(1, 100) if (3 * n) % 13 == 1), None)"
      ],
      "metadata": {
        "id": "TDPjsxGGF46y"
      },
      "execution_count": null,
      "outputs": []
    },
    {
      "cell_type": "markdown",
      "source": [
        "# Data Formats"
      ],
      "metadata": {
        "id": "cvKH3whjIoqV"
      }
    },
    {
      "cell_type": "markdown",
      "source": [
        "## Privacy-Enhanced Mail?"
      ],
      "metadata": {
        "id": "REAX84JtIquP"
      }
    },
    {
      "cell_type": "markdown",
      "source": [
        "Como hemos visto en la sección de codificación, la criptografía implica tratar datos en una amplia variedad de formatos: enteros grandes, bytes sin formato, cadenas hexadecimales y más. Se han estandarizado algunos formatos estructurados para ayudar a enviar y recibir datos criptográficos. Es útil poder reconocer y manipular estos formatos de datos comunes.\n",
        "\n",
        "```\n",
        "-----BEGIN RSA PUBLIC KEY-----\n",
        "MIIBCgKC... (un montón de base64)\n",
        "-----END RSA PUBLIC KEY-----\n",
        "```\n",
        "\n",
        "Envuelve los datos codificados en base64 mediante un encabezado y un pie de página de una línea para indicar cómo analizar los datos que contienen. Quizás inesperadamente, es importante que haya la cantidad correcta de guiones en el encabezado y pie de página; de lo contrario, las herramientas criptográficas no podrán reconocer el archivo.\n",
        "\n",
        "> Hay dos enfoques principales para resolver este desafío. Los datos del certificado se pueden leer con la herramienta de línea de comandos openssl o en Python usando PyCryptodome. Recomendamos usar PyCryptodome: primero importe el módulo RSA desde `Crypto.PublicKey import RSA` y podrá leer los datos clave usando `RSA.importKey()`.\n",
        "\n",
        "Archivos de desafío:\n",
        "* [privacy_enhanced_mail.pem](https://cryptohack.org/static/challenges/privacy_enhanced_mail_1f696c053d76a78c2c531bb013a92d4a.pem)\n",
        "\n",
        "Recursos:\n",
        "* [ASN.1 vs DER vs PEM vs x509 vs PKCS#7 vs ....](https://www.cryptologie.net/article/260/asn1-vs-der-vs-pem-vs-x509-vs-pkcs7-vs/)\n",
        "* [A Warm Welcome to ASN.1 and DER](https://letsencrypt.org/docs/a-warm-welcome-to-asn1-and-der/)\n",
        "\n"
      ],
      "metadata": {
        "id": "j2PbgayfIviJ"
      }
    },
    {
      "cell_type": "code",
      "source": [
        "!pip install pycryptodome\n",
        "\n",
        "import requests\n",
        "from Crypto.PublicKey import RSA\n",
        "\n",
        "key_data = requests.get(\"https://cryptohack.org/static/challenges/privacy_enhanced_mail_1f696c053d76a78c2c531bb013a92d4a.pem\").content\n",
        "\n",
        "key = RSA.import_key(key_data)\n",
        "\n",
        "key.d"
      ],
      "metadata": {
        "id": "GS06msNMLHO_"
      },
      "execution_count": null,
      "outputs": []
    }
  ]
}